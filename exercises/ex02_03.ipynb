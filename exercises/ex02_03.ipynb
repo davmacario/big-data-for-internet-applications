{
 "cells": [
  {
   "cell_type": "code",
   "execution_count": 6,
   "id": "c0312a58-61f9-4e69-870a-b0d7b51f9fb7",
   "metadata": {},
   "outputs": [],
   "source": [
    "# Exercise 03, set 2"
   ]
  },
  {
   "cell_type": "code",
   "execution_count": 7,
   "id": "7049e338-2550-48bc-ae22-53e9435eb882",
   "metadata": {},
   "outputs": [],
   "source": [
    "inputPath = \"/data/students/bigdata_internet/exercises/Ex3/data/sensors.txt\""
   ]
  },
  {
   "cell_type": "code",
   "execution_count": 8,
   "id": "8257386c-4db2-458a-afd9-f0e27dd66606",
   "metadata": {},
   "outputs": [],
   "source": [
    "initialRDD = sc.textFile(inputPath)"
   ]
  },
  {
   "cell_type": "code",
   "execution_count": 9,
   "id": "496cf5a0-d3c4-4a25-b851-4beea253d0df",
   "metadata": {},
   "outputs": [],
   "source": [
    "valuesRDD = initialRDD.map(lambda line: float(line.split(\",\")[2]))\n",
    "maxVal = valuesRDD.top(1)[0]"
   ]
  },
  {
   "cell_type": "code",
   "execution_count": 10,
   "id": "34233a0b-3cfb-4d5d-be56-f82aca04ae5d",
   "metadata": {},
   "outputs": [
    {
     "name": "stdout",
     "output_type": "stream",
     "text": [
      "Max value: [60.2]\n"
     ]
    }
   ],
   "source": [
    "print(f\"Max value: {maxVal}\")"
   ]
  },
  {
   "cell_type": "code",
   "execution_count": null,
   "id": "d6503a78-e0af-4195-b7c3-a31bf5dc07fb",
   "metadata": {},
   "outputs": [],
   "source": []
  }
 ],
 "metadata": {
  "kernelspec": {
   "display_name": "PySpark (Local)",
   "language": "python",
   "name": "pyspark_local"
  },
  "language_info": {
   "codemirror_mode": {
    "name": "ipython",
    "version": 3
   },
   "file_extension": ".py",
   "mimetype": "text/x-python",
   "name": "python",
   "nbconvert_exporter": "python",
   "pygments_lexer": "ipython3",
   "version": "3.7.9"
  }
 },
 "nbformat": 4,
 "nbformat_minor": 5
}
