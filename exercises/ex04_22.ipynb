{
 "cells": [
  {
   "cell_type": "markdown",
   "id": "97480b2e-c795-4579-a046-8dafb2cfa697",
   "metadata": {},
   "source": [
    "# Exercise 22 - Spark SQL\n",
    "\n",
    "From a csv file of the type `(name,age,gender)`, select male people and add 1 to their age\n",
    "\n",
    "-----"
   ]
  },
  {
   "cell_type": "code",
   "execution_count": 16,
   "id": "bb57f78a-a3aa-4dd1-8351-f4c9f15b6813",
   "metadata": {},
   "outputs": [
    {
     "name": "stdout",
     "output_type": "stream",
     "text": [
      "22/11/08 22:50:50 INFO fs.TrashPolicyDefault: Moved: 'hdfs://BigDataHA/user/s315054/ex_results/res_out_Ex22' to trash at: hdfs://BigDataHA/user/s315054/.Trash/Current/user/s315054/ex_results/res_out_Ex221667947850744\n"
     ]
    }
   ],
   "source": [
    "# As usual, clear the destination folder to prevent overwriting\n",
    "!hdfs dfs -rm -r /user/s315054/ex_results/res_out_Ex22"
   ]
  },
  {
   "cell_type": "code",
   "execution_count": 9,
   "id": "7fc0390b-7c6c-44d5-943b-db5783bb26bf",
   "metadata": {},
   "outputs": [
    {
     "name": "stdout",
     "output_type": "stream",
     "text": [
      "root\n",
      " |-- name: string (nullable = true)\n",
      " |-- age: integer (nullable = true)\n",
      " |-- gender: string (nullable = true)\n",
      "\n"
     ]
    }
   ],
   "source": [
    "inPath = \"/data/students/bigdata_internet/exercises/Ex22/data/persons.csv\"\n",
    "outPath = \"/user/s315054/ex_results/res_out_Ex22\"\n",
    "\n",
    "df = spark.read.load(inPath, format=\"csv\", header=True, inferSchema=True)\n",
    "df.printSchema()"
   ]
  },
  {
   "cell_type": "code",
   "execution_count": 10,
   "id": "0e6f1efa-47e8-43a0-be3a-5bbebdefc106",
   "metadata": {},
   "outputs": [
    {
     "name": "stdout",
     "output_type": "stream",
     "text": [
      "+-----+---+------+\n",
      "| name|age|gender|\n",
      "+-----+---+------+\n",
      "| Paul| 40|  male|\n",
      "| John| 40|  male|\n",
      "|David| 15|  male|\n",
      "+-----+---+------+\n",
      "\n"
     ]
    }
   ],
   "source": [
    "# Solution using Spark transformations\n",
    "df_male = df.filter(\"gender == 'male'\")\n",
    "df_male.show()"
   ]
  },
  {
   "cell_type": "code",
   "execution_count": 11,
   "id": "15b64bfc-7e36-4719-9cee-59aa9a89aa6d",
   "metadata": {},
   "outputs": [
    {
     "name": "stdout",
     "output_type": "stream",
     "text": [
      "+-----+-------+------+\n",
      "| name|new_age|gender|\n",
      "+-----+-------+------+\n",
      "| Paul|     41|  male|\n",
      "| John|     41|  male|\n",
      "|David|     16|  male|\n",
      "+-----+-------+------+\n",
      "\n"
     ]
    }
   ],
   "source": [
    "df_male_plus1 = df_male.selectExpr(\"name\", \"age + 1 AS new_age\", \"gender\")\n",
    "df_male_plus1.show()"
   ]
  },
  {
   "cell_type": "code",
   "execution_count": 12,
   "id": "dffd1949-f8aa-4a01-995c-34f8202d1d32",
   "metadata": {},
   "outputs": [],
   "source": [
    "df_male_plus1.write.csv(outPath, header=False)"
   ]
  },
  {
   "cell_type": "code",
   "execution_count": 13,
   "id": "5238497a-c66c-4db4-9fee-d2ce7fe87003",
   "metadata": {},
   "outputs": [
    {
     "name": "stdout",
     "output_type": "stream",
     "text": [
      "+-----+-------+------+\n",
      "| name|new_age|gender|\n",
      "+-----+-------+------+\n",
      "| Paul|     41|  male|\n",
      "| John|     41|  male|\n",
      "|David|     16|  male|\n",
      "+-----+-------+------+\n",
      "\n"
     ]
    }
   ],
   "source": [
    "# Solution using SQL commands\n",
    "# Assign name\n",
    "df.createOrReplaceTempView(\"PeopleContent\") \n",
    "df_male_plus1_2 = spark.sql(\"SELECT name, age+1 as new_age, gender \\\n",
    "                            FROM PeopleContent\\\n",
    "                            WHERE gender='male'\\\n",
    "                            \")\n",
    "df_male_plus1_2.show()"
   ]
  },
  {
   "cell_type": "code",
   "execution_count": 17,
   "id": "5478d247-6740-4722-8db3-bd266417ba3a",
   "metadata": {},
   "outputs": [],
   "source": [
    "df_male_plus1_2.write.csv(outPath, header=False)"
   ]
  },
  {
   "cell_type": "code",
   "execution_count": null,
   "id": "4332f957-9416-4d38-aea3-ce94624b115d",
   "metadata": {},
   "outputs": [],
   "source": []
  }
 ],
 "metadata": {
  "kernelspec": {
   "display_name": "PySpark (Local)",
   "language": "python",
   "name": "pyspark_local"
  },
  "language_info": {
   "codemirror_mode": {
    "name": "ipython",
    "version": 3
   },
   "file_extension": ".py",
   "mimetype": "text/x-python",
   "name": "python",
   "nbconvert_exporter": "python",
   "pygments_lexer": "ipython3",
   "version": "3.7.9"
  }
 },
 "nbformat": 4,
 "nbformat_minor": 5
}
