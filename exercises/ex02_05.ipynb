{
 "cells": [
  {
   "cell_type": "code",
   "execution_count": 18,
   "id": "44eef7d2-9628-4db8-b35c-d7e9b341c145",
   "metadata": {},
   "outputs": [
    {
     "name": "stdout",
     "output_type": "stream",
     "text": [
      "22/10/25 18:59:01 INFO fs.TrashPolicyDefault: Moved: 'hdfs://BigDataHA/user/s315054/ex_results/res_out_Ex5' to trash at: hdfs://BigDataHA/user/s315054/.Trash/Current/user/s315054/ex_results/res_out_Ex51666724341545\n"
     ]
    }
   ],
   "source": [
    "# Exercise 05, set 2\n",
    "!hdfs dfs -rm -r /user/s315054/ex_results/res_out_Ex5/"
   ]
  },
  {
   "cell_type": "code",
   "execution_count": 19,
   "id": "a6eff4b5-5178-421f-99a9-1221ca9b369f",
   "metadata": {},
   "outputs": [],
   "source": [
    "inputPath  = \"/data/students/bigdata_internet/exercises/Ex5/data/sensors.txt\"\n",
    "outputPath = \"ex_results/res_out_Ex5/\""
   ]
  },
  {
   "cell_type": "code",
   "execution_count": 20,
   "id": "1c6acfb2-639d-4fc0-b815-a81387e36f71",
   "metadata": {},
   "outputs": [],
   "source": [
    "readingsRDD = sc.textFile(inputPath)"
   ]
  },
  {
   "cell_type": "code",
   "execution_count": 21,
   "id": "182266b0-4600-40d4-a410-93cd5c34ad44",
   "metadata": {},
   "outputs": [
    {
     "name": "stdout",
     "output_type": "stream",
     "text": [
      "Max value: 60.2\n"
     ]
    }
   ],
   "source": [
    "valuesRDD = initialRDD.map(lambda line: float(line.split(\",\")[2]))\n",
    "maxVal = valuesRDD.top(1)[0]\n",
    "print(f\"Max value: {maxVal}\")"
   ]
  },
  {
   "cell_type": "code",
   "execution_count": 22,
   "id": "8e5ee023-343d-424d-a8ca-c25ae3404ab5",
   "metadata": {},
   "outputs": [],
   "source": [
    "resultRDD = initialRDD.filter(lambda PM10Reading: float(PM10Reading.split(',')[2])==maxVal)"
   ]
  },
  {
   "cell_type": "code",
   "execution_count": 23,
   "id": "3a65a7c4-719f-4b9c-9774-768e6a14d63f",
   "metadata": {},
   "outputs": [
    {
     "name": "stdout",
     "output_type": "stream",
     "text": [
      "['s1,2016-01-02,60.2', 's1,2016-01-03,60.2']\n"
     ]
    }
   ],
   "source": [
    "output = resultRDD.collect()\n",
    "print(output)"
   ]
  },
  {
   "cell_type": "code",
   "execution_count": 24,
   "id": "9df5fde0-4ba9-414e-ae90-cb58dd74ea69",
   "metadata": {},
   "outputs": [],
   "source": [
    "resultRDD.saveAsTextFile(outputPath)"
   ]
  },
  {
   "cell_type": "code",
   "execution_count": null,
   "id": "e2b5f1ff-d820-4bd2-8fdb-2d2e56e6157d",
   "metadata": {},
   "outputs": [],
   "source": []
  }
 ],
 "metadata": {
  "kernelspec": {
   "display_name": "PySpark (Local)",
   "language": "python",
   "name": "pyspark_local"
  },
  "language_info": {
   "codemirror_mode": {
    "name": "ipython",
    "version": 3
   },
   "file_extension": ".py",
   "mimetype": "text/x-python",
   "name": "python",
   "nbconvert_exporter": "python",
   "pygments_lexer": "ipython3",
   "version": "3.7.9"
  }
 },
 "nbformat": 4,
 "nbformat_minor": 5
}
