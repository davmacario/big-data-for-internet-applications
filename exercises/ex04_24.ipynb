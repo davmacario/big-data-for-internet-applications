{
 "cells": [
  {
   "cell_type": "markdown",
   "id": "7e1f6f87-34ab-454e-af26-169e9081302a",
   "metadata": {},
   "source": [
    "# Exercise 24\n",
    "\n",
    "From PM10 measurement, the output must contain the sensors having at least 2 measurements > 50.\n",
    "\n",
    "---"
   ]
  },
  {
   "cell_type": "code",
   "execution_count": 1,
   "id": "269cb12b-c30a-4ef3-915b-c9f124829d4e",
   "metadata": {},
   "outputs": [
    {
     "name": "stdout",
     "output_type": "stream",
     "text": [
      "rm: `/user/s315054/ex_results/res_out_Ex24': No such file or directory\n"
     ]
    }
   ],
   "source": [
    "# As usual, clear the destination folder to prevent overwriting\n",
    "!hdfs dfs -rm -r /user/s315054/ex_results/res_out_Ex24"
   ]
  },
  {
   "cell_type": "code",
   "execution_count": 2,
   "id": "bf00f656-665f-4bc8-aeb0-f501f20e27db",
   "metadata": {},
   "outputs": [],
   "source": [
    "inPath = \"/data/students/bigdata_internet/exercises/Ex24/data/sensors.txt\"\n",
    "outPath = \"/user/s315054/ex_results/res_out_Ex24\""
   ]
  },
  {
   "cell_type": "code",
   "execution_count": 3,
   "id": "d6b71e2f-6ce3-4fd4-be08-91c543f4a597",
   "metadata": {},
   "outputs": [
    {
     "name": "stdout",
     "output_type": "stream",
     "text": [
      "+--------+-------------------+----+\n",
      "|sensorid|               date|pm10|\n",
      "+--------+-------------------+----+\n",
      "|      s1|2016-01-01 00:00:00|20.5|\n",
      "|      s2|2016-01-01 00:00:00|30.1|\n",
      "|      s1|2016-01-02 00:00:00|60.2|\n",
      "|      s2|2016-01-02 00:00:00|20.4|\n",
      "|      s1|2016-01-03 00:00:00|55.5|\n",
      "|      s2|2016-01-03 00:00:00|52.5|\n",
      "+--------+-------------------+----+\n",
      "\n"
     ]
    }
   ],
   "source": [
    "in_df = spark.read.load(inPath, format=\"csv\", header=True, inferSchema=True)\n",
    "in_df.show()"
   ]
  },
  {
   "cell_type": "code",
   "execution_count": 4,
   "id": "70365aec-363c-4a87-baf7-627a7a2964c7",
   "metadata": {},
   "outputs": [
    {
     "name": "stdout",
     "output_type": "stream",
     "text": [
      "+--------+-------------------+----+\n",
      "|sensorid|               date|pm10|\n",
      "+--------+-------------------+----+\n",
      "|      s1|2016-01-02 00:00:00|60.2|\n",
      "|      s1|2016-01-03 00:00:00|55.5|\n",
      "|      s2|2016-01-03 00:00:00|52.5|\n",
      "+--------+-------------------+----+\n",
      "\n"
     ]
    }
   ],
   "source": [
    "# Isolate rows with PM10 > 50\n",
    "filt_df = in_df.filter(\"pm10 > 50\")\n",
    "filt_df.show()"
   ]
  },
  {
   "cell_type": "code",
   "execution_count": 8,
   "id": "f1356e3e-366f-4cd5-8f00-ad91299386b7",
   "metadata": {},
   "outputs": [
    {
     "name": "stderr",
     "output_type": "stream",
     "text": [
      "                                                                                \r"
     ]
    },
    {
     "name": "stdout",
     "output_type": "stream",
     "text": [
      "+--------+-----------+\n",
      "|sensorid|count(pm10)|\n",
      "+--------+-----------+\n",
      "|      s1|          2|\n",
      "+--------+-----------+\n",
      "\n"
     ]
    }
   ],
   "source": [
    "df_out = filt_df.select('sensorid', 'pm10').groupBy('sensorid').agg({\"pm10\":\"count\"}).filter('count(pm10) >= 2')\n",
    "df_out.show()"
   ]
  },
  {
   "cell_type": "code",
   "execution_count": 9,
   "id": "9c15a726-bf02-4e9b-80f6-c1fa8d02dd89",
   "metadata": {},
   "outputs": [],
   "source": [
    "# SQL query\n",
    "in_df.createOrReplaceTempView('PM10')"
   ]
  },
  {
   "cell_type": "code",
   "execution_count": 12,
   "id": "3287c31f-f4ce-48ce-89d3-26ba71126886",
   "metadata": {},
   "outputs": [
    {
     "name": "stdout",
     "output_type": "stream",
     "text": [
      "+--------+-----------+\n",
      "|sensorid|count(pm10)|\n",
      "+--------+-----------+\n",
      "|      s1|          2|\n",
      "+--------+-----------+\n",
      "\n"
     ]
    }
   ],
   "source": [
    "df_out_2 = spark.sql(\"SELECT sensorid, count(pm10) \\\n",
    "        FROM PM10 \\\n",
    "        WHERE pm10>50 \\\n",
    "        GROUP BY sensorid \\\n",
    "        HAVING count(pm10)>=2\")\n",
    "df_out_2.show()"
   ]
  },
  {
   "cell_type": "code",
   "execution_count": 13,
   "id": "7e1a5200-4d81-47f1-a1ad-708c3bb5bdc1",
   "metadata": {},
   "outputs": [
    {
     "name": "stderr",
     "output_type": "stream",
     "text": [
      "                                                                                \r"
     ]
    }
   ],
   "source": [
    "# Saving to HDFS\n",
    "df_out.write.csv(outPath, header=False)"
   ]
  },
  {
   "cell_type": "code",
   "execution_count": null,
   "id": "5f0f3282-1a66-4a8f-8cf9-541998983edc",
   "metadata": {},
   "outputs": [],
   "source": []
  }
 ],
 "metadata": {
  "kernelspec": {
   "display_name": "PySpark (Local)",
   "language": "python",
   "name": "pyspark_local"
  },
  "language_info": {
   "codemirror_mode": {
    "name": "ipython",
    "version": 3
   },
   "file_extension": ".py",
   "mimetype": "text/x-python",
   "name": "python",
   "nbconvert_exporter": "python",
   "pygments_lexer": "ipython3",
   "version": "3.7.9"
  }
 },
 "nbformat": 4,
 "nbformat_minor": 5
}
