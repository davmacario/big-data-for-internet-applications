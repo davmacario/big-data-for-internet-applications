{
 "cells": [
  {
   "cell_type": "markdown",
   "id": "7d9c8729-14c4-402c-96e0-595b5fd6c4be",
   "metadata": {},
   "source": [
    "# Exercise 26\n",
    "\n",
    "Create new dataframe with column 'name_surname' containing the string obtained by appending the surname after the name\n"
   ]
  },
  {
   "cell_type": "code",
   "execution_count": 20,
   "id": "a05a4830-d96b-4752-b7cf-c754bdefe294",
   "metadata": {},
   "outputs": [
    {
     "name": "stdout",
     "output_type": "stream",
     "text": [
      "22/11/30 16:08:09 INFO fs.TrashPolicyDefault: Moved: 'hdfs://BigDataHA/user/s315054/ex_results/res_out_Ex26' to trash at: hdfs://BigDataHA/user/s315054/.Trash/Current/user/s315054/ex_results/res_out_Ex261669824489267\n"
     ]
    }
   ],
   "source": [
    "!hdfs dfs -rm -r /user/s315054/ex_results/res_out_Ex26"
   ]
  },
  {
   "cell_type": "code",
   "execution_count": 10,
   "id": "d8f1bcc7-d3a2-4f85-aede-6009b8963afd",
   "metadata": {},
   "outputs": [],
   "source": [
    "inPath = \"/data/students/bigdata_internet/exercises/Ex26/data/profiles.csv\"\n",
    "outPath = \"/user/s315054/ex_results/res_out_Ex26\""
   ]
  },
  {
   "cell_type": "code",
   "execution_count": 11,
   "id": "b94fab82-90a2-448b-af25-c36232a358a5",
   "metadata": {},
   "outputs": [
    {
     "name": "stdout",
     "output_type": "stream",
     "text": [
      "+-----+-------+---+\n",
      "| name|surname|age|\n",
      "+-----+-------+---+\n",
      "|Paolo|  Garza| 42|\n",
      "| Luca| Boccia| 41|\n",
      "|Maura|Bianchi| 16|\n",
      "+-----+-------+---+\n",
      "\n"
     ]
    }
   ],
   "source": [
    "in_DF = spark.read.load(inPath, format='csv', header=True, inferSchema=True)\n",
    "\n",
    "in_DF.show(5)"
   ]
  },
  {
   "cell_type": "code",
   "execution_count": 12,
   "id": "50b5831a-73b0-43bd-83da-d28d87879275",
   "metadata": {},
   "outputs": [
    {
     "name": "stderr",
     "output_type": "stream",
     "text": [
      "22/11/30 16:04:35 WARN analysis.SimpleFunctionRegistry: The function mergenamesurname replaced a previously registered function.\n"
     ]
    },
    {
     "data": {
      "text/plain": [
       "<function __main__.<lambda>(name, surname)>"
      ]
     },
     "execution_count": 12,
     "metadata": {},
     "output_type": "execute_result"
    }
   ],
   "source": [
    "spark.udf.register(\"mergeNameSurname\", lambda name, surname: str(name) + \" \" + str(surname))"
   ]
  },
  {
   "cell_type": "code",
   "execution_count": 22,
   "id": "ae213520-54af-499e-9c54-489ffb9008de",
   "metadata": {},
   "outputs": [
    {
     "name": "stdout",
     "output_type": "stream",
     "text": [
      "+-------------+\n",
      "| name_surname|\n",
      "+-------------+\n",
      "|  Paolo Garza|\n",
      "|  Luca Boccia|\n",
      "|Maura Bianchi|\n",
      "+-------------+\n",
      "\n"
     ]
    }
   ],
   "source": [
    "n_s_DF = in_DF.selectExpr(\"mergeNameSurname(name, surname) AS name_surname\")\n",
    "\n",
    "n_s_DF.show()"
   ]
  },
  {
   "cell_type": "code",
   "execution_count": 15,
   "id": "6c985088-03cd-4161-9b61-50e48bb25ad7",
   "metadata": {},
   "outputs": [],
   "source": [
    "n_s_DF.write.csv(outPath, header=True)"
   ]
  },
  {
   "cell_type": "markdown",
   "id": "97c4784b-cc50-44a9-835c-8b22029fa671",
   "metadata": {},
   "source": [
    "## Using SQL queries"
   ]
  },
  {
   "cell_type": "code",
   "execution_count": 16,
   "id": "df456692-2122-458e-9b43-d587c25e08e2",
   "metadata": {},
   "outputs": [],
   "source": [
    "in_DF.createOrReplaceTempView('profiles')"
   ]
  },
  {
   "cell_type": "code",
   "execution_count": 19,
   "id": "16210ff0-d2ef-4812-acfc-3f3fa7cd1e72",
   "metadata": {},
   "outputs": [
    {
     "name": "stdout",
     "output_type": "stream",
     "text": [
      "+-------------+\n",
      "| name_surname|\n",
      "+-------------+\n",
      "|  Paolo Garza|\n",
      "|  Luca Boccia|\n",
      "|Maura Bianchi|\n",
      "+-------------+\n",
      "\n"
     ]
    }
   ],
   "source": [
    "out_DF = spark.sql(\"SELECT mergeNameSurname(name, surname) AS name_surname FROM profiles\")\n",
    "\n",
    "out_DF.show()"
   ]
  },
  {
   "cell_type": "code",
   "execution_count": 21,
   "id": "b355d574-2472-456e-9fc9-85522bfeb959",
   "metadata": {},
   "outputs": [],
   "source": [
    "out_DF.write.csv(outPath, header=True)"
   ]
  }
 ],
 "metadata": {
  "kernelspec": {
   "display_name": "PySpark (Local)",
   "language": "python",
   "name": "pyspark_local"
  },
  "language_info": {
   "codemirror_mode": {
    "name": "ipython",
    "version": 3
   },
   "file_extension": ".py",
   "mimetype": "text/x-python",
   "name": "python",
   "nbconvert_exporter": "python",
   "pygments_lexer": "ipython3",
   "version": "3.7.9"
  }
 },
 "nbformat": 4,
 "nbformat_minor": 5
}
