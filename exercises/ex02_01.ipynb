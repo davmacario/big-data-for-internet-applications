{
 "cells": [
  {
   "cell_type": "code",
   "execution_count": 45,
   "id": "cc5d1c1f-42ef-466e-90de-e22a67123cd3",
   "metadata": {},
   "outputs": [
    {
     "name": "stdout",
     "output_type": "stream",
     "text": [
      "22/10/25 19:01:03 INFO fs.TrashPolicyDefault: Moved: 'hdfs://BigDataHA/user/s315054/ex_results/res_out_Ex1' to trash at: hdfs://BigDataHA/user/s315054/.Trash/Current/user/s315054/ex_results/res_out_Ex1\n"
     ]
    }
   ],
   "source": [
    "# Exercise 01, set 2\n",
    "!hdfs dfs -rm -r /user/s315054/ex_results/res_out_Ex1/"
   ]
  },
  {
   "cell_type": "code",
   "execution_count": 46,
   "id": "16f894a5-7459-439b-8414-98260c45246b",
   "metadata": {},
   "outputs": [],
   "source": [
    "inputPath = '/data/students/bigdata_internet/exercises/Ex1/data/log.txt'\n",
    "outputPath = 'ex_results/res_out_Ex1/'"
   ]
  },
  {
   "cell_type": "code",
   "execution_count": 47,
   "id": "5b7c40f6-0aee-4a6a-9745-89b03015b8c1",
   "metadata": {},
   "outputs": [],
   "source": [
    "initialRDD = sc.textFile(inputPath)\n",
    "outRDD = initialRDD.filter(lambda line: line.lower().find('google') >= 0)"
   ]
  },
  {
   "cell_type": "code",
   "execution_count": 48,
   "id": "b986d4ca-5e61-4e11-9a60-03f81154101b",
   "metadata": {},
   "outputs": [
    {
     "name": "stderr",
     "output_type": "stream",
     "text": [
      "                                                                                \r"
     ]
    }
   ],
   "source": [
    "outRDD.saveAsTextFile(outputPath)"
   ]
  },
  {
   "cell_type": "code",
   "execution_count": null,
   "id": "9301c95f-3a05-40ce-a2c9-26e527d1d0cb",
   "metadata": {},
   "outputs": [],
   "source": []
  },
  {
   "cell_type": "code",
   "execution_count": null,
   "id": "f5d1a53e-5819-46ba-b1eb-3b409a2c7856",
   "metadata": {},
   "outputs": [],
   "source": []
  }
 ],
 "metadata": {
  "kernelspec": {
   "display_name": "PySpark (Local)",
   "language": "python",
   "name": "pyspark_local"
  },
  "language_info": {
   "codemirror_mode": {
    "name": "ipython",
    "version": 3
   },
   "file_extension": ".py",
   "mimetype": "text/x-python",
   "name": "python",
   "nbconvert_exporter": "python",
   "pygments_lexer": "ipython3",
   "version": "3.7.9"
  }
 },
 "nbformat": 4,
 "nbformat_minor": 5
}
