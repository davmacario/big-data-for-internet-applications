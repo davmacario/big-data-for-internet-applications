{
 "cells": [
  {
   "cell_type": "markdown",
   "id": "b7ef3f40-0a77-44b9-899b-d92779db787e",
   "metadata": {},
   "source": [
    "# Exercise 23\n",
    "\n",
    "From a PM10 sensor log file (.txt, but same format as .csv), select maximum PM10 value of each sensor\n",
    "\n",
    "---"
   ]
  },
  {
   "cell_type": "code",
   "execution_count": 3,
   "id": "e4ef7840-72d5-4fd5-920b-80d3a56ab5fb",
   "metadata": {},
   "outputs": [],
   "source": [
    "inPath = \"/data/students/bigdata_internet/exercises/Ex23/data/sensors.txt\"\n",
    "outPath = \"/user/s315054/ex_results/res_out_Ex23\""
   ]
  },
  {
   "cell_type": "code",
   "execution_count": 4,
   "id": "cbe36133-d1bc-4797-85e5-e6cfa8536730",
   "metadata": {},
   "outputs": [
    {
     "name": "stdout",
     "output_type": "stream",
     "text": [
      "root\n",
      " |-- sensorid: string (nullable = true)\n",
      " |-- date: timestamp (nullable = true)\n",
      " |-- pm10: double (nullable = true)\n",
      "\n",
      "+--------+-------------------+----+\n",
      "|sensorid|               date|pm10|\n",
      "+--------+-------------------+----+\n",
      "|      s1|2016-01-01 00:00:00|20.5|\n",
      "|      s2|2016-01-01 00:00:00|30.1|\n",
      "|      s1|2016-01-02 00:00:00|60.2|\n",
      "|      s2|2016-01-02 00:00:00|20.4|\n",
      "|      s1|2016-01-03 00:00:00|55.5|\n",
      "|      s2|2016-01-03 00:00:00|52.5|\n",
      "+--------+-------------------+----+\n",
      "\n"
     ]
    }
   ],
   "source": [
    "in_df = spark.read.load(inPath, format=\"csv\", header=True, inferSchema=True)\n",
    "in_df.printSchema()\n",
    "in_df.show()"
   ]
  },
  {
   "cell_type": "code",
   "execution_count": 5,
   "id": "685a689b-d678-4555-8297-5ca6d2f4eac0",
   "metadata": {},
   "outputs": [
    {
     "name": "stdout",
     "output_type": "stream",
     "text": [
      "+--------+----+\n",
      "|sensorid|pm10|\n",
      "+--------+----+\n",
      "|      s1|20.5|\n",
      "|      s2|30.1|\n",
      "|      s1|60.2|\n",
      "|      s2|20.4|\n",
      "|      s1|55.5|\n",
      "|      s2|52.5|\n",
      "+--------+----+\n",
      "\n"
     ]
    }
   ],
   "source": [
    "df_id_val = in_df.select(\"sensorid\", \"pm10\")\n",
    "df_id_val.show()"
   ]
  },
  {
   "cell_type": "code",
   "execution_count": 8,
   "id": "661c4c2d-7dee-41c2-9f96-ba25cb03b7b1",
   "metadata": {},
   "outputs": [
    {
     "name": "stderr",
     "output_type": "stream",
     "text": [
      "                                                                                \r"
     ]
    },
    {
     "name": "stdout",
     "output_type": "stream",
     "text": [
      "+--------+---------+\n",
      "|sensorid|max(pm10)|\n",
      "+--------+---------+\n",
      "|      s2|     52.5|\n",
      "|      s1|     60.2|\n",
      "+--------+---------+\n",
      "\n"
     ]
    }
   ],
   "source": [
    "df_id_groups = df_id_val.groupBy(\"sensorid\")\n",
    "df_final = df_id_groups.agg({\"pm10\":\"max\"})\n",
    "df_final.show()"
   ]
  },
  {
   "cell_type": "code",
   "execution_count": null,
   "id": "1463a3d8-2bc5-4f89-b43e-0a51276bb87f",
   "metadata": {},
   "outputs": [],
   "source": []
  }
 ],
 "metadata": {
  "kernelspec": {
   "display_name": "PySpark (Local)",
   "language": "python",
   "name": "pyspark_local"
  },
  "language_info": {
   "codemirror_mode": {
    "name": "ipython",
    "version": 3
   },
   "file_extension": ".py",
   "mimetype": "text/x-python",
   "name": "python",
   "nbconvert_exporter": "python",
   "pygments_lexer": "ipython3",
   "version": "3.7.9"
  }
 },
 "nbformat": 4,
 "nbformat_minor": 5
}
