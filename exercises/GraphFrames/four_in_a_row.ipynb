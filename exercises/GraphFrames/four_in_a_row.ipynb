{
 "cells": [
  {
   "cell_type": "markdown",
   "id": "3d05bbf3-af90-4424-ad8b-a887beb8e56b",
   "metadata": {},
   "source": [
    "# Example 2 - motif finding"
   ]
  },
  {
   "cell_type": "code",
   "execution_count": 4,
   "id": "a9bd5928-3604-4024-a578-ab58c869bd35",
   "metadata": {},
   "outputs": [],
   "source": [
    "from graphframes import GraphFrame"
   ]
  },
  {
   "cell_type": "code",
   "execution_count": 5,
   "id": "261d6ad7-4024-4058-a308-d1f0a73a2b09",
   "metadata": {},
   "outputs": [],
   "source": [
    "v = spark.createDataFrame([\n",
    "\t(\"a\", \"Alice\", 34), \n",
    "\t(\"b\", \"Bob\", 36), \n",
    "\t(\"c\", \"Charlie\", 30), \n",
    "\t(\"d\", \"David\", 29), \n",
    "\t(\"e\", \"Esther\", 32), \n",
    "\t(\"f\", \"Fanny\", 36), \n",
    "\t(\"g\", \"Gabby\", 60) \n",
    "], [\"id\", \"name\", \"age\"])"
   ]
  },
  {
   "cell_type": "code",
   "execution_count": 6,
   "id": "1b4a9f46-46a6-42e6-a7b3-6a52afa54958",
   "metadata": {},
   "outputs": [],
   "source": [
    "e = spark.createDataFrame([ \n",
    "\t(\"a\", \"b\", \"friend\"), \n",
    "\t(\"b\", \"c\", \"follow\"), \n",
    "\t(\"c\", \"b\", \"follow\"), \n",
    "\t(\"f\", \"c\", \"follow\"), \n",
    "\t(\"e\", \"f\", \"follow\"), \n",
    "\t(\"e\", \"d\", \"friend\"), \n",
    "\t(\"d\", \"a\", \"friend\"), \n",
    "\t(\"a\", \"e\", \"friend\") \n",
    "], [\"src\", \"dst\", \"relationship\"]) "
   ]
  },
  {
   "cell_type": "code",
   "execution_count": 7,
   "id": "19e1d99e-908d-4bec-bed0-9b6f4687120b",
   "metadata": {},
   "outputs": [],
   "source": [
    "g1 = GraphFrame(v, e)"
   ]
  },
  {
   "cell_type": "markdown",
   "id": "15e2e8d3-77dc-4c81-8827-6d0a67ea74a8",
   "metadata": {},
   "source": [
    "## Find chains of 4 users in which at least 2 of the 3 edges are 'friend'"
   ]
  },
  {
   "cell_type": "code",
   "execution_count": 15,
   "id": "092bb42c-46eb-437f-921a-041c37acc0fe",
   "metadata": {},
   "outputs": [
    {
     "name": "stderr",
     "output_type": "stream",
     "text": [
      "                                                                                \r"
     ]
    },
    {
     "name": "stdout",
     "output_type": "stream",
     "text": [
      "+----------------+--------------+----------------+--------------+----------------+--------------+----------------+\n",
      "|              v1|            e1|              v2|            e2|              v3|            e3|              v4|\n",
      "+----------------+--------------+----------------+--------------+----------------+--------------+----------------+\n",
      "|  [d, David, 29]|[d, a, friend]|  [a, Alice, 34]|[a, e, friend]| [e, Esther, 32]|[e, f, follow]|  [f, Fanny, 36]|\n",
      "| [e, Esther, 32]|[e, d, friend]|  [d, David, 29]|[d, a, friend]|  [a, Alice, 34]|[a, e, friend]| [e, Esther, 32]|\n",
      "|  [d, David, 29]|[d, a, friend]|  [a, Alice, 34]|[a, e, friend]| [e, Esther, 32]|[e, d, friend]|  [d, David, 29]|\n",
      "|  [a, Alice, 34]|[a, e, friend]| [e, Esther, 32]|[e, f, follow]|  [f, Fanny, 36]|[f, c, follow]|[c, Charlie, 30]|\n",
      "|  [d, David, 29]|[d, a, friend]|  [a, Alice, 34]|[a, b, friend]|    [b, Bob, 36]|[b, c, follow]|[c, Charlie, 30]|\n",
      "|  [f, Fanny, 36]|[f, c, follow]|[c, Charlie, 30]|[c, b, follow]|    [b, Bob, 36]|[b, c, follow]|[c, Charlie, 30]|\n",
      "|    [b, Bob, 36]|[b, c, follow]|[c, Charlie, 30]|[c, b, follow]|    [b, Bob, 36]|[b, c, follow]|[c, Charlie, 30]|\n",
      "| [e, Esther, 32]|[e, f, follow]|  [f, Fanny, 36]|[f, c, follow]|[c, Charlie, 30]|[c, b, follow]|    [b, Bob, 36]|\n",
      "|[c, Charlie, 30]|[c, b, follow]|    [b, Bob, 36]|[b, c, follow]|[c, Charlie, 30]|[c, b, follow]|    [b, Bob, 36]|\n",
      "|  [a, Alice, 34]|[a, b, friend]|    [b, Bob, 36]|[b, c, follow]|[c, Charlie, 30]|[c, b, follow]|    [b, Bob, 36]|\n",
      "| [e, Esther, 32]|[e, d, friend]|  [d, David, 29]|[d, a, friend]|  [a, Alice, 34]|[a, b, friend]|    [b, Bob, 36]|\n",
      "|  [a, Alice, 34]|[a, e, friend]| [e, Esther, 32]|[e, d, friend]|  [d, David, 29]|[d, a, friend]|  [a, Alice, 34]|\n",
      "+----------------+--------------+----------------+--------------+----------------+--------------+----------------+\n",
      "\n"
     ]
    }
   ],
   "source": [
    "fourInARow = g1.find(\"(v1)-[e1]->(v2); (v2)-[e2]->(v3); (v3)-[e3]->(v4)\")\n",
    "fourInARow.show()"
   ]
  },
  {
   "cell_type": "code",
   "execution_count": 18,
   "id": "d5ae791b-3815-4993-b1cc-bbb02d3399e3",
   "metadata": {},
   "outputs": [
    {
     "name": "stderr",
     "output_type": "stream",
     "text": [
      "22/12/17 10:08:50 WARN analysis.SimpleFunctionRegistry: The function cond replaced a previously registered function.\n",
      "                                                                                \r"
     ]
    },
    {
     "name": "stdout",
     "output_type": "stream",
     "text": [
      "+---------------+--------------+---------------+--------------+---------------+--------------+----------------+\n",
      "|             v1|            e1|             v2|            e2|             v3|            e3|              v4|\n",
      "+---------------+--------------+---------------+--------------+---------------+--------------+----------------+\n",
      "| [d, David, 29]|[d, a, friend]| [a, Alice, 34]|[a, e, friend]|[e, Esther, 32]|[e, f, follow]|  [f, Fanny, 36]|\n",
      "|[e, Esther, 32]|[e, d, friend]| [d, David, 29]|[d, a, friend]| [a, Alice, 34]|[a, e, friend]| [e, Esther, 32]|\n",
      "| [d, David, 29]|[d, a, friend]| [a, Alice, 34]|[a, e, friend]|[e, Esther, 32]|[e, d, friend]|  [d, David, 29]|\n",
      "| [d, David, 29]|[d, a, friend]| [a, Alice, 34]|[a, b, friend]|   [b, Bob, 36]|[b, c, follow]|[c, Charlie, 30]|\n",
      "|[e, Esther, 32]|[e, d, friend]| [d, David, 29]|[d, a, friend]| [a, Alice, 34]|[a, b, friend]|    [b, Bob, 36]|\n",
      "| [a, Alice, 34]|[a, e, friend]|[e, Esther, 32]|[e, d, friend]| [d, David, 29]|[d, a, friend]|  [a, Alice, 34]|\n",
      "+---------------+--------------+---------------+--------------+---------------+--------------+----------------+\n",
      "\n"
     ]
    }
   ],
   "source": [
    "# Possibility 1:\n",
    "def cond2Of3(e1, e2, e3):\n",
    "    a = (e1.relationship == \"friend\")\n",
    "    b = (e2.relationship == \"friend\")\n",
    "    c = (e3.relationship == \"friend\")\n",
    "    \n",
    "    return (int(a)+int(b)+int(c) >= 2)\n",
    "\n",
    "from pyspark.sql.types import BooleanType\n",
    "from pyspark.sql.functions import udf\n",
    "\n",
    "#udf(cond2Of3, BooleanType())\n",
    "spark.udf.register('cond', cond2Of3, BooleanType())\n",
    "\n",
    "fourInARow.filter('cond(e1, e2, e3)').show()"
   ]
  },
  {
   "cell_type": "code",
   "execution_count": null,
   "id": "a132a3c6-67d1-4523-acab-964ddd71b6af",
   "metadata": {},
   "outputs": [],
   "source": []
  },
  {
   "cell_type": "code",
   "execution_count": 16,
   "id": "f4a5a576-ca0e-4876-875d-a4808debd721",
   "metadata": {},
   "outputs": [
    {
     "name": "stderr",
     "output_type": "stream",
     "text": [
      "                                                                                \r"
     ]
    },
    {
     "name": "stdout",
     "output_type": "stream",
     "text": [
      "+---------------+--------------+---------------+--------------+---------------+--------------+----------------+\n",
      "|             v1|            e1|             v2|            e2|             v3|            e3|              v4|\n",
      "+---------------+--------------+---------------+--------------+---------------+--------------+----------------+\n",
      "| [d, David, 29]|[d, a, friend]| [a, Alice, 34]|[a, e, friend]|[e, Esther, 32]|[e, f, follow]|  [f, Fanny, 36]|\n",
      "|[e, Esther, 32]|[e, d, friend]| [d, David, 29]|[d, a, friend]| [a, Alice, 34]|[a, e, friend]| [e, Esther, 32]|\n",
      "| [d, David, 29]|[d, a, friend]| [a, Alice, 34]|[a, e, friend]|[e, Esther, 32]|[e, d, friend]|  [d, David, 29]|\n",
      "| [d, David, 29]|[d, a, friend]| [a, Alice, 34]|[a, b, friend]|   [b, Bob, 36]|[b, c, follow]|[c, Charlie, 30]|\n",
      "|[e, Esther, 32]|[e, d, friend]| [d, David, 29]|[d, a, friend]| [a, Alice, 34]|[a, b, friend]|    [b, Bob, 36]|\n",
      "| [a, Alice, 34]|[a, e, friend]|[e, Esther, 32]|[e, d, friend]| [d, David, 29]|[d, a, friend]|  [a, Alice, 34]|\n",
      "+---------------+--------------+---------------+--------------+---------------+--------------+----------------+\n",
      "\n"
     ]
    }
   ],
   "source": [
    "# Solution on the slides:\n",
    "\n",
    "# Define a function returning true if at least 2 of 3\n",
    "# \"relationship\" labels are \"friend\"\n",
    "def condition(e1,e2,e3): \n",
    "    first=(e1[\"relationship\"]== \"friend\")\n",
    "    second=(e2[\"relationship\"]== \"friend\")\n",
    "    third=(e3[\"relationship\"]== \"friend\")\n",
    "\t\n",
    "    return (int(first) + int(second) + int(third) >= 2)\n",
    " \n",
    "from pyspark.sql.types import BooleanType\n",
    "from pyspark.sql.functions import udf \n",
    "\n",
    "# Define UDF\n",
    "conditionUDF = udf(condition,BooleanType()) \n",
    "\n",
    "chainWith2Friends = \\\n",
    "        fourInARow.filter(conditionUDF(fourInARow.e1, fourInARow.e2, fourInARow.e3))\n",
    "\n",
    "chainWith2Friends.show()"
   ]
  },
  {
   "cell_type": "code",
   "execution_count": null,
   "id": "fda4a1f1-89be-4436-ab90-b33b5e1db00f",
   "metadata": {},
   "outputs": [],
   "source": []
  },
  {
   "cell_type": "code",
   "execution_count": null,
   "id": "afb1f0c6-cc15-4b5b-8278-639ae003f8c7",
   "metadata": {},
   "outputs": [],
   "source": []
  }
 ],
 "metadata": {
  "kernelspec": {
   "display_name": "GraphFrames (Yarn)",
   "language": "python",
   "name": "graphframe_yarn"
  },
  "language_info": {
   "codemirror_mode": {
    "name": "ipython",
    "version": 3
   },
   "file_extension": ".py",
   "mimetype": "text/x-python",
   "name": "python",
   "nbconvert_exporter": "python",
   "pygments_lexer": "ipython3",
   "version": "3.7.9"
  }
 },
 "nbformat": 4,
 "nbformat_minor": 5
}
