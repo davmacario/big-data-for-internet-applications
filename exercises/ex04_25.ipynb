{
 "cells": [
  {
   "cell_type": "markdown",
   "id": "d765d0d7-5144-42cd-89e4-7d66b52e760d",
   "metadata": {},
   "source": [
    "# Exercise 25\n",
    "\n",
    "For each input line, substitute the 'age' attribute with the corresponding range ('rangeage').\n"
   ]
  },
  {
   "cell_type": "code",
   "execution_count": null,
   "id": "ed2db9d4-f55f-426e-9947-de4b597c9a18",
   "metadata": {},
   "outputs": [],
   "source": [
    "# As usual, clear the destination folder to prevent overwriting\n",
    "!hdfs dfs -rm -r /user/s315054/ex_results/res_out_Ex25"
   ]
  },
  {
   "cell_type": "code",
   "execution_count": 1,
   "id": "be65d4db-3de1-4e2f-9e54-4a33b2bca173",
   "metadata": {},
   "outputs": [],
   "source": [
    "inPath = \"/data/students/bigdata_internet/exercises/Ex25/data/profiles.csv\"\n",
    "outPath = \"/user/s315054/ex_results/res_out_Ex25\""
   ]
  },
  {
   "cell_type": "code",
   "execution_count": 2,
   "id": "364c66c9-a215-4dea-8193-dd2fb9591a02",
   "metadata": {},
   "outputs": [
    {
     "name": "stderr",
     "output_type": "stream",
     "text": [
      "                                                                                \r"
     ]
    },
    {
     "name": "stdout",
     "output_type": "stream",
     "text": [
      "+-----+-------+---+\n",
      "| name|surname|age|\n",
      "+-----+-------+---+\n",
      "|Paolo|  Garza| 42|\n",
      "| Luca| Boccia| 41|\n",
      "|Maura|Bianchi| 16|\n",
      "+-----+-------+---+\n",
      "\n"
     ]
    }
   ],
   "source": [
    "in_DF = spark.read.load(inPath, format='csv', header=True, inferSchema=True)\n",
    "\n",
    "in_DF.show(5)"
   ]
  },
  {
   "cell_type": "code",
   "execution_count": 10,
   "id": "cac95731-0acd-4179-94ee-549451919441",
   "metadata": {},
   "outputs": [
    {
     "data": {
      "text/plain": [
       "<function __main__.<lambda>(age)>"
      ]
     },
     "execution_count": 10,
     "metadata": {},
     "output_type": "execute_result"
    }
   ],
   "source": [
    "spark.udf.register(\"getRangeAge\", lambda age: \"[\" + str(int(age/10)*10) + \"-\" + str(int(age/10)*10 + 9) + \"]\")"
   ]
  },
  {
   "cell_type": "code",
   "execution_count": 11,
   "id": "10ef4ef9-7fa7-4096-8a10-63283ececcf9",
   "metadata": {},
   "outputs": [
    {
     "name": "stdout",
     "output_type": "stream",
     "text": [
      "+-----+-------+--------+\n",
      "| name|surname|rangeage|\n",
      "+-----+-------+--------+\n",
      "|Paolo|  Garza| [40-49]|\n",
      "| Luca| Boccia| [40-49]|\n",
      "|Maura|Bianchi| [10-19]|\n",
      "+-----+-------+--------+\n",
      "\n"
     ]
    }
   ],
   "source": [
    "out_DF = in_DF.selectExpr('name', 'surname', 'getRangeAge(age) AS rangeage')\n",
    "\n",
    "out_DF.show(5)"
   ]
  },
  {
   "cell_type": "code",
   "execution_count": 12,
   "id": "300b3b61-03b2-4e3f-a179-e3b7661a129d",
   "metadata": {},
   "outputs": [],
   "source": [
    "out_DF.write.csv(outPath, header=True)"
   ]
  },
  {
   "cell_type": "code",
   "execution_count": null,
   "id": "9bee3d97-02ca-4fcc-ab4e-3360893efa41",
   "metadata": {},
   "outputs": [],
   "source": []
  },
  {
   "cell_type": "code",
   "execution_count": 17,
   "id": "4e4e5dcd-b8d6-4454-be9f-57b763ab2f23",
   "metadata": {},
   "outputs": [
    {
     "name": "stdout",
     "output_type": "stream",
     "text": [
      "+-----+---+-------+\n",
      "| name|age|new_age|\n",
      "+-----+---+-------+\n",
      "|Paolo| 42|    170|\n",
      "| Luca| 41|    166|\n",
      "|Maura| 16|     66|\n",
      "+-----+---+-------+\n",
      "\n"
     ]
    }
   ],
   "source": [
    "try_DF = in_DF.selectExpr('name', 'age', 'age*4 + 2 AS new_age')\n",
    "\n",
    "try_DF.show(5)"
   ]
  },
  {
   "cell_type": "code",
   "execution_count": 18,
   "id": "d580d430-91ba-4374-b109-702a6f217aba",
   "metadata": {},
   "outputs": [
    {
     "name": "stdout",
     "output_type": "stream",
     "text": [
      "+-----+-------------------+\n",
      "| name|    (age / new_age)|\n",
      "+-----+-------------------+\n",
      "|Paolo|0.24705882352941178|\n",
      "| Luca| 0.2469879518072289|\n",
      "|Maura|0.24242424242424243|\n",
      "+-----+-------------------+\n",
      "\n"
     ]
    }
   ],
   "source": [
    "DF = try_DF.selectExpr('name', 'age/new_age')\n",
    "\n",
    "DF.show(5)"
   ]
  },
  {
   "cell_type": "markdown",
   "id": "e6a0a8d2-0245-470f-9105-b6968f9e2a79",
   "metadata": {},
   "source": [
    "## Using SQL queries"
   ]
  },
  {
   "cell_type": "code",
   "execution_count": 15,
   "id": "4f06f102-e260-4d1b-992d-7e90c972a867",
   "metadata": {},
   "outputs": [
    {
     "name": "stdout",
     "output_type": "stream",
     "text": [
      "22/11/20 14:47:06 INFO fs.TrashPolicyDefault: Moved: 'hdfs://BigDataHA/user/s315054/ex_results/res_out_Ex25' to trash at: hdfs://BigDataHA/user/s315054/.Trash/Current/user/s315054/ex_results/res_out_Ex25\n"
     ]
    }
   ],
   "source": [
    "!hdfs dfs -rm -r /user/s315054/ex_results/res_out_Ex25"
   ]
  },
  {
   "cell_type": "code",
   "execution_count": 13,
   "id": "00041bf6-ab77-4804-bf9d-c55b754d4299",
   "metadata": {},
   "outputs": [],
   "source": [
    "in_DF.createOrReplaceTempView('profiles')"
   ]
  },
  {
   "cell_type": "code",
   "execution_count": 14,
   "id": "dd62e22b-ee4b-4484-a24b-3a10394ef188",
   "metadata": {},
   "outputs": [
    {
     "name": "stdout",
     "output_type": "stream",
     "text": [
      "+-----+-------+--------+\n",
      "| name|surname|rangeage|\n",
      "+-----+-------+--------+\n",
      "|Paolo|  Garza| [40-49]|\n",
      "| Luca| Boccia| [40-49]|\n",
      "|Maura|Bianchi| [10-19]|\n",
      "+-----+-------+--------+\n",
      "\n"
     ]
    }
   ],
   "source": [
    "out_DF_2 = spark.sql(\"SELECT name, surname, getRangeAge(age) AS rangeage FROM profiles\")\n",
    "\n",
    "out_DF_2.show(5)"
   ]
  },
  {
   "cell_type": "code",
   "execution_count": 16,
   "id": "bc0988a3-ff1f-4630-9778-aa747be11802",
   "metadata": {},
   "outputs": [],
   "source": [
    "out_DF_2.write.csv(outPath, header=True)"
   ]
  },
  {
   "cell_type": "code",
   "execution_count": null,
   "id": "46617e9a-8534-4b20-bf62-cceaac086f8f",
   "metadata": {},
   "outputs": [],
   "source": []
  }
 ],
 "metadata": {
  "kernelspec": {
   "display_name": "PySpark (Local)",
   "language": "python",
   "name": "pyspark_local"
  },
  "language_info": {
   "codemirror_mode": {
    "name": "ipython",
    "version": 3
   },
   "file_extension": ".py",
   "mimetype": "text/x-python",
   "name": "python",
   "nbconvert_exporter": "python",
   "pygments_lexer": "ipython3",
   "version": "3.7.9"
  }
 },
 "nbformat": 4,
 "nbformat_minor": 5
}
