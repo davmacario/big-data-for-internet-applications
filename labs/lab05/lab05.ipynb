{
 "cells": [
  {
   "cell_type": "markdown",
   "id": "efb708c7-b6cc-4f51-874e-8752c58837b6",
   "metadata": {},
   "source": [
    "# Laboratory 05 - Graph analytics with GraphFrames"
   ]
  },
  {
   "cell_type": "code",
   "execution_count": null,
   "id": "4fc29d23-90bb-421e-89cb-ce351be192dd",
   "metadata": {},
   "outputs": [],
   "source": [
    "!pip3 install graphviz"
   ]
  },
  {
   "cell_type": "code",
   "execution_count": 2,
   "id": "d35d444c-4377-46ee-a41b-5c5249440b58",
   "metadata": {},
   "outputs": [],
   "source": [
    "from graphframes import GraphFrame"
   ]
  },
  {
   "cell_type": "markdown",
   "id": "8246e62e-3a67-43c0-bf25-d3ede1beef80",
   "metadata": {},
   "source": [
    "## 1 - Input data"
   ]
  },
  {
   "cell_type": "code",
   "execution_count": 3,
   "id": "75e34676-75d4-4463-b15e-a856044dc3c1",
   "metadata": {},
   "outputs": [],
   "source": [
    "airports_path = '/data/students/bigdata_internet/lab5/airports.csv'\n",
    "airlines_path = '/data/students/bigdata_internet/lab5/airlines.csv'\n",
    "routes_path = '/data/students/bigdata_internet/lab5/routes.csv' "
   ]
  },
  {
   "cell_type": "code",
   "execution_count": 4,
   "id": "b398a031-4ccc-4153-81b1-ad83f2bec73f",
   "metadata": {},
   "outputs": [
    {
     "name": "stderr",
     "output_type": "stream",
     "text": [
      "                                                                                \r"
     ]
    }
   ],
   "source": [
    "airports_DF = spark.read.load(airports_path, \\\n",
    "                        format='csv', \\\n",
    "                        header=True, \\\n",
    "                        inferSchema=True)\n",
    "airlines_DF = spark.read.load(airlines_path, \\\n",
    "                        format='csv', \\\n",
    "                        header=True, \\\n",
    "                        inferSchema=True)\n",
    "routes_DF = spark.read.load(routes_path, \\\n",
    "                        format='csv', \\\n",
    "                        header=True, \\\n",
    "                        inferSchema=True)"
   ]
  },
  {
   "cell_type": "markdown",
   "id": "c7fdf693-208e-40b2-b9b5-909a01de9694",
   "metadata": {},
   "source": [
    "## 2 - Top airports and airlines"
   ]
  },
  {
   "cell_type": "markdown",
   "id": "fb268c07-16cc-40af-b70d-9ab39cb1675b",
   "metadata": {},
   "source": [
    "### 2.1 - Countries with more than 200 airports\n",
    "\n",
    "Reported in ascending order."
   ]
  },
  {
   "cell_type": "code",
   "execution_count": 5,
   "id": "f48ed3f1-4052-4954-9ab9-297ddc02a52a",
   "metadata": {},
   "outputs": [
    {
     "name": "stderr",
     "output_type": "stream",
     "text": [
      "                                                                                \r"
     ]
    },
    {
     "name": "stdout",
     "output_type": "stream",
     "text": [
      "+-------------+---------+\n",
      "|      country|count(id)|\n",
      "+-------------+---------+\n",
      "|       France|      217|\n",
      "|        China|      241|\n",
      "|      Germany|      249|\n",
      "|       Russia|      264|\n",
      "|       Brazil|      264|\n",
      "|    Australia|      334|\n",
      "|       Canada|      430|\n",
      "|United States|     1512|\n",
      "+-------------+---------+\n",
      "\n"
     ]
    },
    {
     "name": "stderr",
     "output_type": "stream",
     "text": [
      "[Stage 11:====================================================> (194 + 1) / 200]"
     ]
    },
    {
     "name": "stdout",
     "output_type": "stream",
     "text": [
      "The number of countries having more than 200 airports is: 8\n"
     ]
    },
    {
     "name": "stderr",
     "output_type": "stream",
     "text": [
      "                                                                                \r"
     ]
    }
   ],
   "source": [
    "# \n",
    "n_airports_DF = airports_DF.select('country', 'id').groupBy('country')\\\n",
    "            .agg({'id':'count'}).filter('count(id) > 200')\\\n",
    "            .sort('count(id)', ascending=True)\n",
    "n_airports_DF.show(10)\n",
    "n_moreThan200 = n_airports_DF.count()\n",
    "print(f\"The number of countries having more than 200 airports is: {n_moreThan200}\")"
   ]
  },
  {
   "cell_type": "markdown",
   "id": "2ae9a662-af98-4a81-a7ec-6054c638d96f",
   "metadata": {},
   "source": [
    "### 2.2 - Top 5 countries with the highest airports (in terms of altitude)"
   ]
  },
  {
   "cell_type": "code",
   "execution_count": 6,
   "id": "fdebe27d-09ce-4454-9446-2bb62f4747c2",
   "metadata": {},
   "outputs": [
    {
     "data": {
      "text/plain": [
       "<function __main__.<lambda>(h)>"
      ]
     },
     "execution_count": 6,
     "metadata": {},
     "output_type": "execute_result"
    }
   ],
   "source": [
    "# UDF for transforming altitude form feet to meters\n",
    "spark.udf.register('ft2m', lambda h: float(round(h/3.281, 3)))"
   ]
  },
  {
   "cell_type": "code",
   "execution_count": 7,
   "id": "058fa598-7cfc-4007-9539-634c1e66a6fc",
   "metadata": {},
   "outputs": [
    {
     "name": "stderr",
     "output_type": "stream",
     "text": [
      "[Stage 16:>                                                         (0 + 1) / 1]"
     ]
    },
    {
     "name": "stdout",
     "output_type": "stream",
     "text": [
      "+--------------+---------+--------------------------------------+\n",
      "|max_altitude_m|country  |name                                  |\n",
      "+--------------+---------+--------------------------------------+\n",
      "|4410.85       |China    |Daocheng Yading Airport               |\n",
      "|4070.405      |Bolivia  |El Alto International Airport         |\n",
      "|3825.663      |Peru     |Inca Manco Capac International Airport|\n",
      "|3779.336      |Nepal    |Syangboche Airport                    |\n",
      "|3478.817      |Argentina|La Quiaca Airport                     |\n",
      "+--------------+---------+--------------------------------------+\n",
      "only showing top 5 rows\n",
      "\n"
     ]
    },
    {
     "name": "stderr",
     "output_type": "stream",
     "text": [
      "                                                                                \r"
     ]
    }
   ],
   "source": [
    "# For getting airport names at the end\n",
    "airports_alt_name_DF = airports_DF\\\n",
    "                .selectExpr('ft2m(altitude) AS max_altitude_m', 'name')\n",
    "tmp_DF = airports_DF.selectExpr('country', 'name', \\\n",
    "                                'ft2m(altitude) AS altitude_m')\n",
    "\n",
    "# Find max altitude per country (groupBy + aggregate)\n",
    "# Get name of highest per country with join (on `airports_alt_name_DF`)\n",
    "ord2_DF = tmp_DF.withColumn('altitude_m', tmp_DF.altitude_m.cast('float'))\\\n",
    "                .groupBy('country').agg({'altitude_m':'max'})\\\n",
    "                .withColumnRenamed('max(altitude_m)', 'max_altitude_m')\\\n",
    "                .join(airports_alt_name_DF, 'max_altitude_m')\\\n",
    "                .sort('max_altitude_m', ascending=False)\n",
    "ord2_DF.show(5, truncate=False)"
   ]
  },
  {
   "cell_type": "markdown",
   "id": "81c34060-7869-423f-b33c-62e4a8402cce",
   "metadata": {},
   "source": [
    "### 2.3 - Top 10 routes in the world"
   ]
  },
  {
   "cell_type": "code",
   "execution_count": 8,
   "id": "26755aa6-e2ef-4c96-bfae-33ff58255095",
   "metadata": {},
   "outputs": [],
   "source": [
    "routes_DF.createOrReplaceTempView('routes_tab')\n",
    "# Count the number of routes having same src and dst\n",
    "topRoutes_DF = spark.sql(\n",
    "    \"\"\"SELECT airport_source_id, airport_destination_id, count(*)\n",
    "    FROM routes_tab\n",
    "    GROUP BY airport_source_id, airport_destination_id\n",
    "    ORDER BY `count(1)` DESC\n",
    "    \"\"\")"
   ]
  },
  {
   "cell_type": "code",
   "execution_count": 9,
   "id": "87ac4091-7bbc-4d2e-ac3b-a4aadb21f8ad",
   "metadata": {},
   "outputs": [
    {
     "name": "stderr",
     "output_type": "stream",
     "text": [
      "[Stage 22:====================================================> (196 + 1) / 200]"
     ]
    },
    {
     "name": "stdout",
     "output_type": "stream",
     "text": [
      "+---------+------------------------------------------------+---------+-------------------------------------------------+-----------+\n",
      "|n_flights|name_src                                        |city_src |name_dst                                         |city_dst   |\n",
      "+---------+------------------------------------------------+---------+-------------------------------------------------+-----------+\n",
      "|20       |Chicago O'Hare International Airport            |Chicago  |Hartsfield Jackson Atlanta International Airport |Atlanta    |\n",
      "|19       |Hartsfield Jackson Atlanta International Airport|Atlanta  |Chicago O'Hare International Airport             |Chicago    |\n",
      "|13       |Chicago O'Hare International Airport            |Chicago  |Louis Armstrong New Orleans International Airport|New Orleans|\n",
      "|13       |Phuket International Airport                    |Phuket   |Suvarnabhumi Airport                             |Bangkok    |\n",
      "|12       |Abu Dhabi International Airport                 |Abu Dhabi|Muscat International Airport                     |Muscat     |\n",
      "|12       |John F Kennedy International Airport            |New York |London Heathrow Airport                          |London     |\n",
      "|12       |Hartsfield Jackson Atlanta International Airport|Atlanta  |Miami International Airport                      |Miami      |\n",
      "|12       |Miami International Airport                     |Miami    |Hartsfield Jackson Atlanta International Airport |Atlanta    |\n",
      "|12       |Hamad International Airport                     |Doha     |Bahrain International Airport                    |Bahrain    |\n",
      "|12       |London Heathrow Airport                         |London   |John F Kennedy International Airport             |New York   |\n",
      "+---------+------------------------------------------------+---------+-------------------------------------------------+-----------+\n",
      "only showing top 10 rows\n",
      "\n"
     ]
    },
    {
     "name": "stderr",
     "output_type": "stream",
     "text": [
      "                                                                                \r"
     ]
    }
   ],
   "source": [
    "# Merge with airports to include names\n",
    "airports_src_DF = airports_DF\\\n",
    "  .selectExpr('id AS airport_source_id', 'name AS name_src', 'city AS city_src')\n",
    "airports_dst_DF = airports_DF\\\n",
    "  .selectExpr('id AS airport_destination_id', 'name AS name_dst', 'city AS city_dst')\n",
    "top_routes_DF_withNames = topRoutes_DF.join(airports_src_DF, 'airport_source_id')\\\n",
    "    .join(airports_dst_DF, 'airport_destination_id')\\\n",
    "    .withColumnRenamed('count(1)', 'n_flights')\\\n",
    "    .select('n_flights', 'name_src', 'city_src', 'name_dst', 'city_dst')\\\n",
    "    .sort('n_flights', ascending=False)\n",
    "top_routes_DF_withNames.show(10, truncate=False)"
   ]
  },
  {
   "cell_type": "markdown",
   "id": "eeb1889a-d9db-4094-8401-6964220c685f",
   "metadata": {},
   "source": [
    "## 3 - Create graph of flight connections\n"
   ]
  },
  {
   "cell_type": "markdown",
   "id": "da1ef767-5383-494c-ba15-3fd31cb1c351",
   "metadata": {},
   "source": [
    "### 3.1 - Filter out rows with missing values (`\\\\\\\\N`)"
   ]
  },
  {
   "cell_type": "code",
   "execution_count": 10,
   "id": "1a9f882c-4aca-4066-ae72-89d0def5c823",
   "metadata": {},
   "outputs": [
    {
     "name": "stdout",
     "output_type": "stream",
     "text": [
      "The number of invalid routes is 423\n"
     ]
    }
   ],
   "source": [
    "# Remove invalid entries\n",
    "filtered_routes_DF = spark.sql(\"\"\"SELECT * \n",
    "        FROM routes_tab \n",
    "        WHERE NOT airport_source_id = '\\\\\\\\N' \n",
    "            AND NOT airport_destination_id = '\\\\\\\\N' \"\"\")\n",
    "\n",
    "print(f\"The number of invalid routes is {routes_DF.count() - filtered_routes_DF.count()}\")"
   ]
  },
  {
   "cell_type": "code",
   "execution_count": 11,
   "id": "65ff2389-c30b-45cb-982f-e5a9c57bcbda",
   "metadata": {},
   "outputs": [],
   "source": [
    "# Create Graph\n",
    "# Need to cast the integer values to strings\n",
    "airports_DF = airports_DF.withColumn('id', airports_DF.id.cast('string'))\\\n",
    "# Cast IDs and rename columns (src, dst)\n",
    "filt_routes_DF = filtered_routes_DF\\\n",
    "    .withColumn('airport_source_id', \\\n",
    "                filtered_routes_DF.airport_source_id.cast('string'))\\\n",
    "    .withColumn('airport_destination_id', \\\n",
    "                filtered_routes_DF.airport_destination_id.cast('string'))\\\n",
    "    .withColumnRenamed('airport_source_id', 'src')\\\n",
    "    .withColumnRenamed('airport_destination_id', 'dst')"
   ]
  },
  {
   "cell_type": "code",
   "execution_count": 12,
   "id": "b9b5569a-4108-4c12-a8e1-4185427452c3",
   "metadata": {},
   "outputs": [],
   "source": [
    "# Create GraphFrame\n",
    "g = GraphFrame(airports_DF, filt_routes_DF)"
   ]
  },
  {
   "cell_type": "markdown",
   "id": "d5abdb73-0029-4822-9d59-69ac5528593c",
   "metadata": {},
   "source": [
    "## 4 - Graph analysis and processing"
   ]
  },
  {
   "cell_type": "markdown",
   "id": "2967f0c6-4559-4150-be6d-a9ced321f133",
   "metadata": {},
   "source": [
    "### 4.1 - Top 5 airports with highest inDegree/outDegree ratio\n",
    "\n",
    "I.e., airports which have a number of incoming flights much higher than outgoing ones."
   ]
  },
  {
   "cell_type": "code",
   "execution_count": 13,
   "id": "f3fbd775-2bce-45e0-b4b1-4b375dbf11e3",
   "metadata": {},
   "outputs": [],
   "source": [
    "in_deg = g.inDegrees\n",
    "out_deg = g.outDegrees"
   ]
  },
  {
   "cell_type": "code",
   "execution_count": 14,
   "id": "3a070acc-bdfd-4db5-a0eb-03a32b8cde98",
   "metadata": {},
   "outputs": [],
   "source": [
    "vert_in_out_DF = g.vertices.join(in_deg, 'id').join(out_deg, 'id')"
   ]
  },
  {
   "cell_type": "code",
   "execution_count": 15,
   "id": "6bb85965-5bea-45df-a084-8bc30c565645",
   "metadata": {},
   "outputs": [
    {
     "data": {
      "text/plain": [
       "<function __main__.<lambda>(in_d, out_d)>"
      ]
     },
     "execution_count": 15,
     "metadata": {},
     "output_type": "execute_result"
    }
   ],
   "source": [
    "# Evaluate the inDegree/outDegree ratio\n",
    "from pyspark.sql.types import FloatType\n",
    "spark.udf.register('in_out_ratio',lambda in_d,out_d: in_d/out_d,FloatType())"
   ]
  },
  {
   "cell_type": "code",
   "execution_count": 16,
   "id": "065e7fce-7a56-4e20-8ba5-b84e654a943f",
   "metadata": {},
   "outputs": [
    {
     "name": "stderr",
     "output_type": "stream",
     "text": [
      "[Stage 32:===================================================>  (191 + 1) / 200]"
     ]
    },
    {
     "name": "stdout",
     "output_type": "stream",
     "text": [
      "+----+--------------------+----------+-----+\n",
      "|  id|                name|      city|ratio|\n",
      "+----+--------------------+----------+-----+\n",
      "|3862|Portland Internat...|  Portland|  9.0|\n",
      "| 653|       Banak Airport|   Lakselv|  3.0|\n",
      "|5416|    Suavanao Airport|  Suavanao|  3.0|\n",
      "|4285|      Yeager Airport|Charleston|  2.5|\n",
      "|6289|   Longreach Airport| Longreach|  2.5|\n",
      "+----+--------------------+----------+-----+\n",
      "only showing top 5 rows\n",
      "\n"
     ]
    },
    {
     "name": "stderr",
     "output_type": "stream",
     "text": [
      "                                                                                \r"
     ]
    }
   ],
   "source": [
    "vert_ratio_DF = vert_in_out_DF\\\n",
    "        .selectExpr('id', 'name', 'city', \\\n",
    "                    'in_out_ratio(inDegree, outDegree) AS ratio')\\\n",
    "        .sort('ratio', ascending=False)\n",
    "\n",
    "vert_ratio_DF.show(5)"
   ]
  },
  {
   "cell_type": "markdown",
   "id": "1ea1276b-0008-4915-8e1b-64e318141508",
   "metadata": {},
   "source": [
    "### 4.2 - Bari airport"
   ]
  },
  {
   "cell_type": "code",
   "execution_count": 17,
   "id": "01fb0d7a-fdea-46d6-b98a-74481737267c",
   "metadata": {},
   "outputs": [],
   "source": [
    "# Airports which are at distance of 1 hop\n",
    "df_1_hop = g.find(\"(a)-[]->(b)\")"
   ]
  },
  {
   "cell_type": "markdown",
   "id": "9d40c5c0-0d0c-4991-8d70-7fac35a8a742",
   "metadata": {},
   "source": [
    "#### 4.2.1 - Airports from which one can reach Bari with 1 flight\n"
   ]
  },
  {
   "cell_type": "code",
   "execution_count": 18,
   "id": "163a0b15-3c34-4dec-8170-fc547f954e83",
   "metadata": {},
   "outputs": [
    {
     "name": "stderr",
     "output_type": "stream",
     "text": [
      "23/01/25 09:20:40 WARN util.Utils: Truncated the string representation of a plan since it was too large. This behavior can be adjusted by setting 'spark.debug.maxToStringFields' in SparkEnv.conf.\n",
      "[Stage 36:=====================================================>(198 + 2) / 200]"
     ]
    },
    {
     "name": "stdout",
     "output_type": "stream",
     "text": [
      "Number of airports that can reach Bari with 1 flight: 41\n"
     ]
    },
    {
     "name": "stderr",
     "output_type": "stream",
     "text": [
      "                                                                                \r"
     ]
    }
   ],
   "source": [
    "n_one_to_Bari = df_1_hop.filter(\"b.city == 'Bari'\").distinct().count()\n",
    "print(f\"Number of airports that can reach Bari with 1 flight: {n_one_to_Bari}\")"
   ]
  },
  {
   "cell_type": "markdown",
   "id": "6e1d0e99-7334-40a7-a0f0-a881ac6af0b0",
   "metadata": {},
   "source": [
    "#### 4.2.2 - Airports that can be reached *from* Bari in 1 flight"
   ]
  },
  {
   "cell_type": "code",
   "execution_count": 19,
   "id": "e5627630-387e-43aa-a405-776b8e43aeb4",
   "metadata": {},
   "outputs": [
    {
     "name": "stderr",
     "output_type": "stream",
     "text": [
      "[Stage 41:=====================================================>(199 + 1) / 200]"
     ]
    },
    {
     "name": "stdout",
     "output_type": "stream",
     "text": [
      "Number of airports that can be reached with 1 flight from Bari: 41\n"
     ]
    },
    {
     "name": "stderr",
     "output_type": "stream",
     "text": [
      "                                                                                \r"
     ]
    }
   ],
   "source": [
    "n_one_from_Bari = df_1_hop.filter(\"a.city == 'Bari'\").distinct().count()\n",
    "\n",
    "print(f\"Number of airports that can be reached with 1 flight from Bari: {n_one_from_Bari}\")"
   ]
  },
  {
   "cell_type": "markdown",
   "id": "aaffc4c7-9b80-4626-9b1b-1d568c119b64",
   "metadata": {},
   "source": [
    "Check inDegree and outDegree for bari"
   ]
  },
  {
   "cell_type": "code",
   "execution_count": 20,
   "id": "cb60ddaa-0988-45a8-9c80-70525cc093f5",
   "metadata": {},
   "outputs": [
    {
     "name": "stderr",
     "output_type": "stream",
     "text": [
      "                                                                                \r"
     ]
    },
    {
     "name": "stdout",
     "output_type": "stream",
     "text": [
      "+----+--------+---------+\n",
      "|city|inDegree|outDegree|\n",
      "+----+--------+---------+\n",
      "|Bari|      50|       50|\n",
      "+----+--------+---------+\n",
      "\n"
     ]
    }
   ],
   "source": [
    "vert_in_out_DF.filter(\"city == 'Bari'\").select('city', 'inDegree', 'outDegree').show()"
   ]
  },
  {
   "cell_type": "markdown",
   "id": "97de5a66-b1d6-4bf7-8219-d91ebf42b911",
   "metadata": {},
   "source": [
    "In this case, the number of airports which can reach Bari in 1 hop and airports that can be reached from Bari in 1 hop is 41, which is different from in/outDegree (both 50). This happens because there are flights which are performed by more than 1 airline, therefore when isolating airports after motif-finding, it is necessary to apply `distinct()` to remove the duplicates caused by this.\n",
    "In any case, without applying `distinct()`, i.e., simply counting the number of elements reported by motif-finding, returns 50 in both cases."
   ]
  },
  {
   "cell_type": "markdown",
   "id": "62eac390-03fc-48aa-83c2-d261fbc292e5",
   "metadata": {},
   "source": [
    "### 4.3 - Number of airports that can be reached from Bari in 2 flights"
   ]
  },
  {
   "cell_type": "code",
   "execution_count": 21,
   "id": "bc1a4fc2-ee33-4edc-affc-9e95438a97d9",
   "metadata": {},
   "outputs": [],
   "source": [
    "df_2_hop = g.find(\"(a)-[]->(b); (b)-[]->(c)\")"
   ]
  },
  {
   "cell_type": "code",
   "execution_count": 22,
   "id": "2d92e7eb-9bf8-44cb-a4e0-e65c84448c89",
   "metadata": {},
   "outputs": [
    {
     "name": "stderr",
     "output_type": "stream",
     "text": [
      "[Stage 60:>                                                         (0 + 1) / 1]"
     ]
    },
    {
     "name": "stdout",
     "output_type": "stream",
     "text": [
      "Number of distinct airports that can be reached with 2 flights from Bari (including Bari itself): 507\n"
     ]
    },
    {
     "name": "stderr",
     "output_type": "stream",
     "text": [
      "                                                                                \r"
     ]
    }
   ],
   "source": [
    "# Need to perform the 'distinct' operation as before\n",
    "two_from_Bari_DF = df_2_hop.filter(\"a.city == 'Bari'\").select(\"c.name\").distinct()\n",
    "n_two_from_Bari = two_from_Bari_DF.count()\n",
    "\n",
    "print(f\"Number of distinct airports that can be reached with 2 \\\n",
    "flights from Bari (including Bari itself): {n_two_from_Bari}\")"
   ]
  },
  {
   "cell_type": "markdown",
   "id": "cedcab27-e241-4daf-bd08-ac4704b7b649",
   "metadata": {},
   "source": [
    "### 4.4 - Los Angeles International Airport vs. Catania airport"
   ]
  },
  {
   "cell_type": "code",
   "execution_count": 23,
   "id": "9e497d85-ba1b-42bc-8383-66ba48bce310",
   "metadata": {},
   "outputs": [
    {
     "name": "stdout",
     "output_type": "stream",
     "text": [
      "Los Angeles International ID: 3484\n"
     ]
    }
   ],
   "source": [
    "# Get ID of Los Angeles International Airport\n",
    "LA_DF = g.vertices.filter('name == \"Los Angeles International Airport\"')\n",
    "LA_id = LA_DF.collect()[0].asDict()['id']\n",
    "print(f\"Los Angeles International ID: {LA_id}\")"
   ]
  },
  {
   "cell_type": "code",
   "execution_count": 24,
   "id": "50ec47d6-e5ed-4ea3-ad57-ed8a4bc0d0f4",
   "metadata": {},
   "outputs": [
    {
     "name": "stdout",
     "output_type": "stream",
     "text": [
      "Catania airport ID: 1509\n"
     ]
    }
   ],
   "source": [
    "# Get ID of Catania airport\n",
    "catania_row = g.vertices.filter('city == \"Catania\"').collect()[0].asDict()\n",
    "catania_id = catania_row['id']\n",
    "print(f\"Catania airport ID: {catania_id}\")"
   ]
  },
  {
   "cell_type": "code",
   "execution_count": 25,
   "id": "ed4d1002-5202-4cc1-8df7-8fb843fddad7",
   "metadata": {},
   "outputs": [
    {
     "name": "stderr",
     "output_type": "stream",
     "text": [
      "                                                                                \r"
     ]
    }
   ],
   "source": [
    "# Get shortest path from every node to Catania or Los Angeles\n",
    "sp_DF = g.shortestPaths([str(LA_id), str(catania_id)])"
   ]
  },
  {
   "cell_type": "code",
   "execution_count": 26,
   "id": "6206e844-6fd6-4724-9ea1-404688e4aec1",
   "metadata": {},
   "outputs": [
    {
     "name": "stderr",
     "output_type": "stream",
     "text": [
      "                                                                                \r"
     ]
    },
    {
     "data": {
      "text/plain": [
       "3169"
      ]
     },
     "execution_count": 26,
     "metadata": {},
     "output_type": "execute_result"
    }
   ],
   "source": [
    "# Extract the values from column 'distances'\n",
    "# Need to remove rows with no elements ('null')\n",
    "dist_DF = sp_DF\\\n",
    "    .select(f'distances.{LA_id}', f'distances.{catania_id}')\\\n",
    "    .withColumnRenamed(LA_id, 'd_LA')\\\n",
    "    .filter('d_LA IS NOT null')\\\n",
    "    .withColumnRenamed(catania_id, 'd_cat')\\\n",
    "    .filter('d_cat IS NOT null')\n",
    "# d_LA contains the distance of each ariport from LA, \n",
    "# d_cat contains the dist. from Catania\n",
    "dist_DF.count()"
   ]
  },
  {
   "cell_type": "markdown",
   "id": "85e08be3-357e-4c42-953e-4c0189145dba",
   "metadata": {},
   "source": [
    "#### 4.4.1/2/3"
   ]
  },
  {
   "cell_type": "code",
   "execution_count": 27,
   "id": "1a6b4e8b-185a-4f07-bae1-c00b5bc170bf",
   "metadata": {},
   "outputs": [
    {
     "name": "stderr",
     "output_type": "stream",
     "text": [
      "[Stage 400:===========================================>         (166 + 6) / 200]"
     ]
    },
    {
     "name": "stdout",
     "output_type": "stream",
     "text": [
      "N. of airports which can reach Catania with less steps: 136\n",
      "N. of airports which can reach LA with less steps: 1812\n",
      "N. of airports which can reach both with the same n. of hops: 1221\n"
     ]
    },
    {
     "name": "stderr",
     "output_type": "stream",
     "text": [
      "                                                                                \r"
     ]
    }
   ],
   "source": [
    "# Count\n",
    "n_LA_less_Cat = dist_DF.filter('d_LA < d_cat').count()\n",
    "n_Cat_less_LA = dist_DF.filter('d_LA > d_cat').count()\n",
    "n_LA_same_Cat = dist_DF.filter('d_LA == d_cat').count()\n",
    "print(f\"N. of airports which can reach Catania with less steps: {n_Cat_less_LA}\")\n",
    "print(f\"N. of airports which can reach LA with less steps: {n_LA_less_Cat}\")\n",
    "print(f\"N. of airports which can reach both with the same n. of hops: {n_LA_same_Cat}\")"
   ]
  },
  {
   "cell_type": "markdown",
   "id": "40351006-44f1-45db-99b3-bce28d375998",
   "metadata": {},
   "source": [
    "### 4.5 - Number of connected components of at least 2 airports"
   ]
  },
  {
   "cell_type": "code",
   "execution_count": 28,
   "id": "aae6bf7e-1bb6-4359-a6ff-e6817fb6118a",
   "metadata": {},
   "outputs": [],
   "source": [
    "# First, need to drop isolated vertices \n",
    "g_1 = g.dropIsolatedVertices()"
   ]
  },
  {
   "cell_type": "code",
   "execution_count": 29,
   "id": "56aa8c24-2dd9-4fa0-ad48-bf3748dcd13f",
   "metadata": {},
   "outputs": [],
   "source": [
    "sc.setCheckpointDir('hdfs:///user/s315054/lab05/gf_checkpoints')"
   ]
  },
  {
   "cell_type": "code",
   "execution_count": 30,
   "id": "31aa31e3-bc9c-48d2-94ae-0f3ad9204df8",
   "metadata": {},
   "outputs": [
    {
     "name": "stderr",
     "output_type": "stream",
     "text": [
      "                                                                                \r"
     ]
    }
   ],
   "source": [
    "# Find connected components\n",
    "conn_comp_DF = g_1.connectedComponents()"
   ]
  },
  {
   "cell_type": "code",
   "execution_count": 31,
   "id": "b1b77ae2-9269-4e3c-a443-508441a491b3",
   "metadata": {},
   "outputs": [
    {
     "name": "stdout",
     "output_type": "stream",
     "text": [
      "Number of connected components (subgraphs): 7\n"
     ]
    }
   ],
   "source": [
    "# Count number of connected components (with more than 1 node)\n",
    "conn_comp_corr_DF = conn_comp_DF.groupBy('component')\\\n",
    "                .agg({\"*\":\"count\"}).filter('count(1) > 1')\n",
    "n_comp = conn_comp_corr_DF.select('component').distinct().count()\n",
    "print(f\"Number of connected components (subgraphs): {n_comp}\")"
   ]
  },
  {
   "cell_type": "markdown",
   "id": "97659bfc-d5b3-428a-823d-722b719a10a3",
   "metadata": {},
   "source": [
    "### 4.6 - Flights performed by 2 different airlines - print graph\n",
    "\n",
    "The subgraph of flights performed by 2 different airlines consists in the sets of 2 edges having the same source and detination and different airline IATA"
   ]
  },
  {
   "cell_type": "code",
   "execution_count": 32,
   "id": "fa22654d-76ae-498f-8442-71cf1d1e93d8",
   "metadata": {},
   "outputs": [],
   "source": [
    "# Can directly use the graph without isolated vertices...\n",
    "diff_airlines_DF = g_1.find(\"(a)-[e1]->(b); (a)-[e2]->(b)\")\\\n",
    "                .filter('e1.airline_iata != e2.airline_iata')"
   ]
  },
  {
   "cell_type": "code",
   "execution_count": 33,
   "id": "e0f654a5-060a-452e-af39-46850adc16b4",
   "metadata": {},
   "outputs": [],
   "source": [
    "# Take ID1, city1, ID2, city2 and IATAs of airlines\n",
    "smaller_diff_DF = diff_airlines_DF.selectExpr('a.id AS id1', 'a.city AS city1',\\\n",
    "                            'b.id AS id2', 'b.city AS city2', \\\n",
    "                            'e1.airline_iata AS iata1', \\\n",
    "                            'e2.airline_iata AS iata2')"
   ]
  },
  {
   "cell_type": "code",
   "execution_count": 34,
   "id": "8f4dad21-9a42-4d2a-8f5c-d349bfcfa58c",
   "metadata": {},
   "outputs": [],
   "source": [
    "# Need to find airlines which have at least 6 cities\n",
    "n_cities_airline_DF = smaller_diff_DF.select('city1', 'iata1')\\\n",
    "                .groupBy('iata1').agg({'city1':'approx_count_distinct'})\\\n",
    "                .withColumnRenamed('approx_count_distinct(city1)', 'n_cities')"
   ]
  },
  {
   "cell_type": "code",
   "execution_count": 35,
   "id": "c5d488df-1c06-4fd6-bf51-7c86246b2587",
   "metadata": {},
   "outputs": [
    {
     "name": "stderr",
     "output_type": "stream",
     "text": [
      "                                                                                \r"
     ]
    }
   ],
   "source": [
    "# Take 2 airlines satisfying conditions\n",
    "# (Prevent big graphs by setting the max.n. of cities to 10)\n",
    "selected_airlines = n_cities_airline_DF.filter('n_cities>6 AND n_cities<10')\\\n",
    "                                           .collect()[1:3]"
   ]
  },
  {
   "cell_type": "code",
   "execution_count": 36,
   "id": "1f7d0cd1-4dc6-4f6a-84fd-93f1f05e2b6a",
   "metadata": {},
   "outputs": [],
   "source": [
    "selected_iata = [str(selected_airlines[i]['iata1']) for i in range(len(selected_airlines))]\n",
    "selected_subgraphs_DF = smaller_diff_DF.filter(f\"iata1 == '{selected_iata[0]}' OR iata1 == '{selected_iata[1]}'\")\\\n",
    "            .select('id1', 'city1', 'id2', 'city2', 'iata1').distinct()\n",
    "\n",
    "# In this DF there are the src and dest ID and city of all flights made by \n",
    "# either of the 2 selected airlines, for which there exists (at least)\n",
    "# another company doing the same flight"
   ]
  },
  {
   "cell_type": "code",
   "execution_count": 37,
   "id": "4f250bab-e215-47d9-b85a-fe3d0b1d58b5",
   "metadata": {},
   "outputs": [
    {
     "name": "stderr",
     "output_type": "stream",
     "text": [
      "                                                                                \r"
     ]
    },
    {
     "data": {
      "text/plain": [
       "17"
      ]
     },
     "execution_count": 37,
     "metadata": {},
     "output_type": "execute_result"
    }
   ],
   "source": [
    "# Need to perform an outer join to take all cities appearing in either\n",
    "# 'city1' or 'city2'\n",
    "\n",
    "DF1 = selected_subgraphs_DF.selectExpr('id1 AS id', 'city1 AS city')\n",
    "DF2 = selected_subgraphs_DF.selectExpr('id2 AS id', 'city2 AS city')\n",
    "two_airlines_vertices = DF1.join(DF2, ['id', 'city'], 'outer').distinct()\n",
    "two_airlines_vertices.count()"
   ]
  },
  {
   "cell_type": "code",
   "execution_count": 38,
   "id": "4371cf29-377c-4a6a-b9ac-11326c5df339",
   "metadata": {},
   "outputs": [],
   "source": [
    "two_airlines_edges = selected_subgraphs_DF\\\n",
    "        .selectExpr('id1 as src', 'id2 AS dst', 'iata1 AS iata')"
   ]
  },
  {
   "cell_type": "markdown",
   "id": "4c0c956b-58c3-4ff3-8461-35be0ab10535",
   "metadata": {},
   "source": [
    "#### Plotting the graph of the selected airlines"
   ]
  },
  {
   "cell_type": "code",
   "execution_count": 39,
   "id": "c64367e1-1041-404e-acc8-b67cdf57702e",
   "metadata": {},
   "outputs": [],
   "source": [
    "from graphviz import Digraph"
   ]
  },
  {
   "cell_type": "code",
   "execution_count": 40,
   "id": "1e0d7983-ea69-4e05-981b-dde390e848e8",
   "metadata": {},
   "outputs": [
    {
     "name": "stderr",
     "output_type": "stream",
     "text": [
      "                                                                                \r"
     ]
    }
   ],
   "source": [
    "vertices_local = two_airlines_vertices.collect()\n",
    "edges_local = two_airlines_edges.collect()\n",
    "vert_dict_lst = [vertices_local[i].asDict() for i in range(len(vertices_local))]\n",
    "edges_dict_lst = [edges_local[i].asDict() for i in range(len(edges_local))]"
   ]
  },
  {
   "cell_type": "code",
   "execution_count": 41,
   "id": "db0c98c0-1fd4-4e56-b270-98e788c584f5",
   "metadata": {},
   "outputs": [
    {
     "data": {
      "image/svg+xml": [
       "<?xml version=\"1.0\" encoding=\"UTF-8\" standalone=\"no\"?>\n",
       "<!DOCTYPE svg PUBLIC \"-//W3C//DTD SVG 1.1//EN\"\n",
       " \"http://www.w3.org/Graphics/SVG/1.1/DTD/svg11.dtd\">\n",
       "<!-- Generated by graphviz version 2.42.3 (20191010.1750)\n",
       " -->\n",
       "<!-- Title: %3 Pages: 1 -->\n",
       "<svg width=\"1040pt\" height=\"305pt\"\n",
       " viewBox=\"0.00 0.00 1040.44 305.00\" xmlns=\"http://www.w3.org/2000/svg\" xmlns:xlink=\"http://www.w3.org/1999/xlink\">\n",
       "<g id=\"graph0\" class=\"graph\" transform=\"scale(1 1) rotate(0) translate(4 301)\">\n",
       "<title>%3</title>\n",
       "<polygon fill=\"white\" stroke=\"transparent\" points=\"-4,4 -4,-301 1036.44,-301 1036.44,4 -4,4\"/>\n",
       "<!-- 609 -->\n",
       "<g id=\"node1\" class=\"node\">\n",
       "<title>609</title>\n",
       "<ellipse fill=\"none\" stroke=\"black\" cx=\"288.6\" cy=\"-279\" rx=\"57.69\" ry=\"18\"/>\n",
       "<text text-anchor=\"middle\" x=\"288.6\" y=\"-275.3\" font-family=\"Times,serif\" font-size=\"14.00\">Copenhagen</text>\n",
       "</g>\n",
       "<!-- 16 -->\n",
       "<g id=\"node4\" class=\"node\">\n",
       "<title>16</title>\n",
       "<ellipse fill=\"none\" stroke=\"black\" cx=\"288.6\" cy=\"-192\" rx=\"42.79\" ry=\"18\"/>\n",
       "<text text-anchor=\"middle\" x=\"288.6\" y=\"-188.3\" font-family=\"Times,serif\" font-size=\"14.00\">Keflavik</text>\n",
       "</g>\n",
       "<!-- 609&#45;&gt;16 -->\n",
       "<g id=\"edge25\" class=\"edge\">\n",
       "<title>609&#45;&gt;16</title>\n",
       "<path fill=\"none\" stroke=\"black\" d=\"M278.5,-261.13C275.69,-255.55 273.02,-249.19 271.6,-243 269.8,-235.17 271.22,-226.85 273.87,-219.28\"/>\n",
       "<polygon fill=\"black\" stroke=\"black\" points=\"277.18,-220.45 277.89,-209.88 270.74,-217.69 277.18,-220.45\"/>\n",
       "<text text-anchor=\"middle\" x=\"278.1\" y=\"-231.8\" font-family=\"Times,serif\" font-size=\"14.00\">FI</text>\n",
       "</g>\n",
       "<!-- 1057 -->\n",
       "<g id=\"node2\" class=\"node\">\n",
       "<title>1057</title>\n",
       "<ellipse fill=\"none\" stroke=\"black\" cx=\"711.6\" cy=\"-279\" rx=\"40.89\" ry=\"18\"/>\n",
       "<text text-anchor=\"middle\" x=\"711.6\" y=\"-275.3\" font-family=\"Times,serif\" font-size=\"14.00\">Tenerife</text>\n",
       "</g>\n",
       "<!-- 1053 -->\n",
       "<g id=\"node12\" class=\"node\">\n",
       "<title>1053</title>\n",
       "<ellipse fill=\"none\" stroke=\"black\" cx=\"613.6\" cy=\"-192\" rx=\"102.88\" ry=\"18\"/>\n",
       "<text text-anchor=\"middle\" x=\"613.6\" y=\"-188.3\" font-family=\"Times,serif\" font-size=\"14.00\">Santa Cruz De La Palma</text>\n",
       "</g>\n",
       "<!-- 1057&#45;&gt;1053 -->\n",
       "<g id=\"edge2\" class=\"edge\">\n",
       "<title>1057&#45;&gt;1053</title>\n",
       "<path fill=\"none\" stroke=\"black\" d=\"M679.47,-267.54C665.93,-261.91 650.75,-253.86 639.6,-243 632.84,-236.43 627.49,-227.72 623.44,-219.42\"/>\n",
       "<polygon fill=\"black\" stroke=\"black\" points=\"626.53,-217.74 619.28,-210.01 620.13,-220.57 626.53,-217.74\"/>\n",
       "<text text-anchor=\"middle\" x=\"650.6\" y=\"-231.8\" font-family=\"Times,serif\" font-size=\"14.00\">PM</text>\n",
       "</g>\n",
       "<!-- 1054 -->\n",
       "<g id=\"node14\" class=\"node\">\n",
       "<title>1054</title>\n",
       "<ellipse fill=\"none\" stroke=\"black\" cx=\"793.6\" cy=\"-192\" rx=\"59.59\" ry=\"18\"/>\n",
       "<text text-anchor=\"middle\" x=\"793.6\" y=\"-188.3\" font-family=\"Times,serif\" font-size=\"14.00\">Gran Canaria</text>\n",
       "</g>\n",
       "<!-- 1057&#45;&gt;1054 -->\n",
       "<g id=\"edge1\" class=\"edge\">\n",
       "<title>1057&#45;&gt;1054</title>\n",
       "<path fill=\"none\" stroke=\"black\" d=\"M721.42,-261.23C727.85,-251.01 736.85,-238.03 746.6,-228 751.06,-223.4 756.18,-218.95 761.35,-214.84\"/>\n",
       "<polygon fill=\"black\" stroke=\"black\" points=\"763.58,-217.54 769.44,-208.71 759.36,-211.96 763.58,-217.54\"/>\n",
       "<text text-anchor=\"middle\" x=\"757.6\" y=\"-231.8\" font-family=\"Times,serif\" font-size=\"14.00\">PM</text>\n",
       "</g>\n",
       "<!-- 1382 -->\n",
       "<g id=\"node3\" class=\"node\">\n",
       "<title>1382</title>\n",
       "<ellipse fill=\"none\" stroke=\"black\" cx=\"28.6\" cy=\"-105\" rx=\"28.7\" ry=\"18\"/>\n",
       "<text text-anchor=\"middle\" x=\"28.6\" y=\"-101.3\" font-family=\"Times,serif\" font-size=\"14.00\">Paris</text>\n",
       "</g>\n",
       "<!-- 1382&#45;&gt;16 -->\n",
       "<g id=\"edge27\" class=\"edge\">\n",
       "<title>1382&#45;&gt;16</title>\n",
       "<path fill=\"none\" stroke=\"black\" d=\"M47.44,-118.71C65.11,-130.07 92.62,-146.37 118.6,-156 157.26,-170.34 203.16,-179.35 237.52,-184.63\"/>\n",
       "<polygon fill=\"black\" stroke=\"black\" points=\"237.39,-188.15 247.79,-186.15 238.41,-181.22 237.39,-188.15\"/>\n",
       "<text text-anchor=\"middle\" x=\"125.1\" y=\"-144.8\" font-family=\"Times,serif\" font-size=\"14.00\">FI</text>\n",
       "</g>\n",
       "<!-- 16&#45;&gt;609 -->\n",
       "<g id=\"edge17\" class=\"edge\">\n",
       "<title>16&#45;&gt;609</title>\n",
       "<path fill=\"none\" stroke=\"black\" d=\"M288.6,-210.18C288.6,-221.81 288.6,-237.42 288.6,-250.73\"/>\n",
       "<polygon fill=\"black\" stroke=\"black\" points=\"285.1,-250.8 288.6,-260.8 292.1,-250.8 285.1,-250.8\"/>\n",
       "<text text-anchor=\"middle\" x=\"295.1\" y=\"-231.8\" font-family=\"Times,serif\" font-size=\"14.00\">FI</text>\n",
       "</g>\n",
       "<!-- 16&#45;&gt;1382 -->\n",
       "<g id=\"edge26\" class=\"edge\">\n",
       "<title>16&#45;&gt;1382</title>\n",
       "<path fill=\"none\" stroke=\"black\" d=\"M245.82,-189.79C185.22,-187.25 78.4,-179.49 48.6,-156 41.31,-150.26 36.67,-141.46 33.72,-132.84\"/>\n",
       "<polygon fill=\"black\" stroke=\"black\" points=\"37.03,-131.68 30.97,-122.99 30.29,-133.56 37.03,-131.68\"/>\n",
       "<text text-anchor=\"middle\" x=\"55.1\" y=\"-144.8\" font-family=\"Times,serif\" font-size=\"14.00\">FI</text>\n",
       "</g>\n",
       "<!-- 421 -->\n",
       "<g id=\"node5\" class=\"node\">\n",
       "<title>421</title>\n",
       "<ellipse fill=\"none\" stroke=\"black\" cx=\"117.6\" cy=\"-105\" rx=\"42.49\" ry=\"18\"/>\n",
       "<text text-anchor=\"middle\" x=\"117.6\" y=\"-101.3\" font-family=\"Times,serif\" font-size=\"14.00\">Helsinki</text>\n",
       "</g>\n",
       "<!-- 16&#45;&gt;421 -->\n",
       "<g id=\"edge13\" class=\"edge\">\n",
       "<title>16&#45;&gt;421</title>\n",
       "<path fill=\"none\" stroke=\"black\" d=\"M246.26,-188.49C216.79,-184.92 177.87,-176.36 149.6,-156 141.03,-149.83 134.2,-140.6 129.08,-131.73\"/>\n",
       "<polygon fill=\"black\" stroke=\"black\" points=\"132.12,-130 124.37,-122.78 125.93,-133.26 132.12,-130\"/>\n",
       "<text text-anchor=\"middle\" x=\"156.1\" y=\"-144.8\" font-family=\"Times,serif\" font-size=\"14.00\">FI</text>\n",
       "</g>\n",
       "<!-- 636 -->\n",
       "<g id=\"node7\" class=\"node\">\n",
       "<title>636</title>\n",
       "<ellipse fill=\"none\" stroke=\"black\" cx=\"215.6\" cy=\"-105\" rx=\"37.89\" ry=\"18\"/>\n",
       "<text text-anchor=\"middle\" x=\"215.6\" y=\"-101.3\" font-family=\"Times,serif\" font-size=\"14.00\">Bergen</text>\n",
       "</g>\n",
       "<!-- 16&#45;&gt;636 -->\n",
       "<g id=\"edge16\" class=\"edge\">\n",
       "<title>16&#45;&gt;636</title>\n",
       "<path fill=\"none\" stroke=\"black\" d=\"M274.52,-174.61C263.65,-161.95 248.44,-144.24 236.19,-129.98\"/>\n",
       "<polygon fill=\"black\" stroke=\"black\" points=\"238.55,-127.36 229.38,-122.05 233.24,-131.92 238.55,-127.36\"/>\n",
       "<text text-anchor=\"middle\" x=\"263.1\" y=\"-144.8\" font-family=\"Times,serif\" font-size=\"14.00\">FI</text>\n",
       "</g>\n",
       "<!-- 478 -->\n",
       "<g id=\"node8\" class=\"node\">\n",
       "<title>478</title>\n",
       "<ellipse fill=\"none\" stroke=\"black\" cx=\"324.6\" cy=\"-105\" rx=\"53.09\" ry=\"18\"/>\n",
       "<text text-anchor=\"middle\" x=\"324.6\" y=\"-101.3\" font-family=\"Times,serif\" font-size=\"14.00\">Manchester</text>\n",
       "</g>\n",
       "<!-- 16&#45;&gt;478 -->\n",
       "<g id=\"edge14\" class=\"edge\">\n",
       "<title>16&#45;&gt;478</title>\n",
       "<path fill=\"none\" stroke=\"black\" d=\"M284.8,-173.66C283.45,-163.71 283.2,-151.21 287.6,-141 289.51,-136.56 292.29,-132.43 295.48,-128.66\"/>\n",
       "<polygon fill=\"black\" stroke=\"black\" points=\"297.99,-131.1 302.46,-121.49 292.98,-126.22 297.99,-131.1\"/>\n",
       "<text text-anchor=\"middle\" x=\"294.1\" y=\"-144.8\" font-family=\"Times,serif\" font-size=\"14.00\">FI</text>\n",
       "</g>\n",
       "<!-- 502 -->\n",
       "<g id=\"node10\" class=\"node\">\n",
       "<title>502</title>\n",
       "<ellipse fill=\"none\" stroke=\"black\" cx=\"436.6\" cy=\"-105\" rx=\"40.89\" ry=\"18\"/>\n",
       "<text text-anchor=\"middle\" x=\"436.6\" y=\"-101.3\" font-family=\"Times,serif\" font-size=\"14.00\">London</text>\n",
       "</g>\n",
       "<!-- 16&#45;&gt;502 -->\n",
       "<g id=\"edge8\" class=\"edge\">\n",
       "<title>16&#45;&gt;502</title>\n",
       "<path fill=\"none\" stroke=\"black\" d=\"M313.04,-176.96C337.82,-162.73 376.33,-140.61 403.77,-124.85\"/>\n",
       "<polygon fill=\"black\" stroke=\"black\" points=\"405.68,-127.79 412.61,-119.77 402.2,-121.72 405.68,-127.79\"/>\n",
       "<text text-anchor=\"middle\" x=\"378.1\" y=\"-144.8\" font-family=\"Times,serif\" font-size=\"14.00\">FI</text>\n",
       "</g>\n",
       "<!-- 644 -->\n",
       "<g id=\"node17\" class=\"node\">\n",
       "<title>644</title>\n",
       "<ellipse fill=\"none\" stroke=\"black\" cx=\"524.6\" cy=\"-105\" rx=\"28.7\" ry=\"18\"/>\n",
       "<text text-anchor=\"middle\" x=\"524.6\" y=\"-101.3\" font-family=\"Times,serif\" font-size=\"14.00\">Oslo</text>\n",
       "</g>\n",
       "<!-- 16&#45;&gt;644 -->\n",
       "<g id=\"edge20\" class=\"edge\">\n",
       "<title>16&#45;&gt;644</title>\n",
       "<path fill=\"none\" stroke=\"black\" d=\"M326.48,-183.37C353.9,-177.33 391.61,-167.92 423.6,-156 448.45,-146.74 475.29,-133.27 495.06,-122.64\"/>\n",
       "<polygon fill=\"black\" stroke=\"black\" points=\"496.77,-125.7 503.88,-117.84 493.42,-119.55 496.77,-125.7\"/>\n",
       "<text text-anchor=\"middle\" x=\"465.1\" y=\"-144.8\" font-family=\"Times,serif\" font-size=\"14.00\">FI</text>\n",
       "</g>\n",
       "<!-- 421&#45;&gt;16 -->\n",
       "<g id=\"edge18\" class=\"edge\">\n",
       "<title>421&#45;&gt;16</title>\n",
       "<path fill=\"none\" stroke=\"black\" d=\"M144.13,-119.19C173.29,-133.68 220.3,-157.05 252.73,-173.17\"/>\n",
       "<polygon fill=\"black\" stroke=\"black\" points=\"251.37,-176.4 261.88,-177.72 254.48,-170.13 251.37,-176.4\"/>\n",
       "<text text-anchor=\"middle\" x=\"220.1\" y=\"-144.8\" font-family=\"Times,serif\" font-size=\"14.00\">FI</text>\n",
       "</g>\n",
       "<!-- 1051 -->\n",
       "<g id=\"node6\" class=\"node\">\n",
       "<title>1051</title>\n",
       "<ellipse fill=\"none\" stroke=\"black\" cx=\"632.6\" cy=\"-105\" rx=\"61.99\" ry=\"18\"/>\n",
       "<text text-anchor=\"middle\" x=\"632.6\" y=\"-101.3\" font-family=\"Times,serif\" font-size=\"14.00\">Fuerteventura</text>\n",
       "</g>\n",
       "<!-- 1051&#45;&gt;1054 -->\n",
       "<g id=\"edge11\" class=\"edge\">\n",
       "<title>1051&#45;&gt;1054</title>\n",
       "<path fill=\"none\" stroke=\"black\" d=\"M656.18,-121.78C672.07,-132.11 693.69,-145.57 713.6,-156 725.15,-162.05 737.97,-167.99 749.9,-173.2\"/>\n",
       "<polygon fill=\"black\" stroke=\"black\" points=\"748.67,-176.48 759.23,-177.22 751.43,-170.05 748.67,-176.48\"/>\n",
       "<text text-anchor=\"middle\" x=\"724.6\" y=\"-144.8\" font-family=\"Times,serif\" font-size=\"14.00\">PM</text>\n",
       "</g>\n",
       "<!-- 665 -->\n",
       "<g id=\"node15\" class=\"node\">\n",
       "<title>665</title>\n",
       "<ellipse fill=\"none\" stroke=\"black\" cx=\"156.6\" cy=\"-18\" rx=\"51.99\" ry=\"18\"/>\n",
       "<text text-anchor=\"middle\" x=\"156.6\" y=\"-14.3\" font-family=\"Times,serif\" font-size=\"14.00\">Trondheim</text>\n",
       "</g>\n",
       "<!-- 636&#45;&gt;665 -->\n",
       "<g id=\"edge5\" class=\"edge\">\n",
       "<title>636&#45;&gt;665</title>\n",
       "<path fill=\"none\" stroke=\"black\" d=\"M204.22,-87.61C195.63,-75.23 183.68,-58.01 173.9,-43.92\"/>\n",
       "<polygon fill=\"black\" stroke=\"black\" points=\"176.72,-41.85 168.14,-35.63 170.97,-45.84 176.72,-41.85\"/>\n",
       "<text text-anchor=\"middle\" x=\"197.1\" y=\"-57.8\" font-family=\"Times,serif\" font-size=\"14.00\">FI</text>\n",
       "</g>\n",
       "<!-- 666 -->\n",
       "<g id=\"node16\" class=\"node\">\n",
       "<title>666</title>\n",
       "<ellipse fill=\"none\" stroke=\"black\" cx=\"274.6\" cy=\"-18\" rx=\"48.19\" ry=\"18\"/>\n",
       "<text text-anchor=\"middle\" x=\"274.6\" y=\"-14.3\" font-family=\"Times,serif\" font-size=\"14.00\">Stavanger</text>\n",
       "</g>\n",
       "<!-- 636&#45;&gt;666 -->\n",
       "<g id=\"edge3\" class=\"edge\">\n",
       "<title>636&#45;&gt;666</title>\n",
       "<path fill=\"none\" stroke=\"black\" d=\"M226.97,-87.61C235.57,-75.23 247.52,-58.01 257.3,-43.92\"/>\n",
       "<polygon fill=\"black\" stroke=\"black\" points=\"260.23,-45.84 263.06,-35.63 254.48,-41.85 260.23,-45.84\"/>\n",
       "<text text-anchor=\"middle\" x=\"256.1\" y=\"-57.8\" font-family=\"Times,serif\" font-size=\"14.00\">FI</text>\n",
       "</g>\n",
       "<!-- 478&#45;&gt;16 -->\n",
       "<g id=\"edge4\" class=\"edge\">\n",
       "<title>478&#45;&gt;16</title>\n",
       "<path fill=\"none\" stroke=\"black\" d=\"M317.38,-123.05C312.3,-135.02 305.43,-151.27 299.67,-164.87\"/>\n",
       "<polygon fill=\"black\" stroke=\"black\" points=\"296.39,-163.63 295.71,-174.21 302.83,-166.36 296.39,-163.63\"/>\n",
       "<text text-anchor=\"middle\" x=\"316.1\" y=\"-144.8\" font-family=\"Times,serif\" font-size=\"14.00\">FI</text>\n",
       "</g>\n",
       "<!-- 5672 -->\n",
       "<g id=\"node9\" class=\"node\">\n",
       "<title>5672</title>\n",
       "<ellipse fill=\"none\" stroke=\"black\" cx=\"756.6\" cy=\"-105\" rx=\"44.39\" ry=\"18\"/>\n",
       "<text text-anchor=\"middle\" x=\"756.6\" y=\"-101.3\" font-family=\"Times,serif\" font-size=\"14.00\">El Aaiún</text>\n",
       "</g>\n",
       "<!-- 5672&#45;&gt;1054 -->\n",
       "<g id=\"edge19\" class=\"edge\">\n",
       "<title>5672&#45;&gt;1054</title>\n",
       "<path fill=\"none\" stroke=\"black\" d=\"M760.99,-123.03C763.79,-132.87 767.79,-145.37 772.6,-156 773.97,-159.03 775.55,-162.13 777.21,-165.17\"/>\n",
       "<polygon fill=\"black\" stroke=\"black\" points=\"774.27,-167.08 782.31,-173.98 780.33,-163.57 774.27,-167.08\"/>\n",
       "<text text-anchor=\"middle\" x=\"783.6\" y=\"-144.8\" font-family=\"Times,serif\" font-size=\"14.00\">PM</text>\n",
       "</g>\n",
       "<!-- 502&#45;&gt;16 -->\n",
       "<g id=\"edge12\" class=\"edge\">\n",
       "<title>502&#45;&gt;16</title>\n",
       "<path fill=\"none\" stroke=\"black\" d=\"M424.31,-122.35C415.42,-133.19 402.57,-147.02 388.6,-156 372.56,-166.31 353.11,-174.01 335.65,-179.52\"/>\n",
       "<polygon fill=\"black\" stroke=\"black\" points=\"334.21,-176.3 325.64,-182.52 336.22,-183 334.21,-176.3\"/>\n",
       "<text text-anchor=\"middle\" x=\"413.1\" y=\"-144.8\" font-family=\"Times,serif\" font-size=\"14.00\">FI</text>\n",
       "</g>\n",
       "<!-- 1055 -->\n",
       "<g id=\"node11\" class=\"node\">\n",
       "<title>1055</title>\n",
       "<ellipse fill=\"none\" stroke=\"black\" cx=\"858.6\" cy=\"-105\" rx=\"40.09\" ry=\"18\"/>\n",
       "<text text-anchor=\"middle\" x=\"858.6\" y=\"-101.3\" font-family=\"Times,serif\" font-size=\"14.00\">Arrecife</text>\n",
       "</g>\n",
       "<!-- 1055&#45;&gt;1054 -->\n",
       "<g id=\"edge9\" class=\"edge\">\n",
       "<title>1055&#45;&gt;1054</title>\n",
       "<path fill=\"none\" stroke=\"black\" d=\"M854.71,-122.92C851.76,-133.19 846.94,-146.18 839.6,-156 836.06,-160.74 831.71,-165.15 827.11,-169.13\"/>\n",
       "<polygon fill=\"black\" stroke=\"black\" points=\"824.87,-166.44 819.24,-175.42 829.24,-171.91 824.87,-166.44\"/>\n",
       "<text text-anchor=\"middle\" x=\"859.6\" y=\"-144.8\" font-family=\"Times,serif\" font-size=\"14.00\">PM</text>\n",
       "</g>\n",
       "<!-- 1053&#45;&gt;1057 -->\n",
       "<g id=\"edge23\" class=\"edge\">\n",
       "<title>1053&#45;&gt;1057</title>\n",
       "<path fill=\"none\" stroke=\"black\" d=\"M638.09,-209.74C645.8,-215.3 654.23,-221.7 661.6,-228 671.27,-236.27 681.3,-246.04 689.82,-254.74\"/>\n",
       "<polygon fill=\"black\" stroke=\"black\" points=\"687.41,-257.28 696.87,-262.04 692.44,-252.42 687.41,-257.28\"/>\n",
       "<text text-anchor=\"middle\" x=\"688.6\" y=\"-231.8\" font-family=\"Times,serif\" font-size=\"14.00\">PM</text>\n",
       "</g>\n",
       "<!-- 1097 -->\n",
       "<g id=\"node13\" class=\"node\">\n",
       "<title>1097</title>\n",
       "<ellipse fill=\"none\" stroke=\"black\" cx=\"974.6\" cy=\"-105\" rx=\"57.69\" ry=\"18\"/>\n",
       "<text text-anchor=\"middle\" x=\"974.6\" y=\"-101.3\" font-family=\"Times,serif\" font-size=\"14.00\">Nouadhibou</text>\n",
       "</g>\n",
       "<!-- 1097&#45;&gt;1054 -->\n",
       "<g id=\"edge24\" class=\"edge\">\n",
       "<title>1097&#45;&gt;1054</title>\n",
       "<path fill=\"none\" stroke=\"black\" d=\"M964.17,-122.77C956.48,-133.8 945.03,-147.68 931.6,-156 909.71,-169.55 882.79,-177.87 858.56,-182.97\"/>\n",
       "<polygon fill=\"black\" stroke=\"black\" points=\"857.85,-179.54 848.71,-184.9 859.2,-186.41 857.85,-179.54\"/>\n",
       "<text text-anchor=\"middle\" x=\"960.6\" y=\"-144.8\" font-family=\"Times,serif\" font-size=\"14.00\">PM</text>\n",
       "</g>\n",
       "<!-- 1054&#45;&gt;1057 -->\n",
       "<g id=\"edge7\" class=\"edge\">\n",
       "<title>1054&#45;&gt;1057</title>\n",
       "<path fill=\"none\" stroke=\"black\" d=\"M787.78,-210.18C783.63,-220.56 777.25,-233.56 768.6,-243 762.62,-249.52 755.15,-255.26 747.61,-260.11\"/>\n",
       "<polygon fill=\"black\" stroke=\"black\" points=\"745.59,-257.24 738.81,-265.38 749.18,-263.24 745.59,-257.24\"/>\n",
       "<text text-anchor=\"middle\" x=\"790.6\" y=\"-231.8\" font-family=\"Times,serif\" font-size=\"14.00\">PM</text>\n",
       "</g>\n",
       "<!-- 1054&#45;&gt;1051 -->\n",
       "<g id=\"edge21\" class=\"edge\">\n",
       "<title>1054&#45;&gt;1051</title>\n",
       "<path fill=\"none\" stroke=\"black\" d=\"M748.79,-179.88C712.28,-170.68 666.19,-158.71 662.6,-156 654.52,-149.92 648.18,-140.97 643.45,-132.32\"/>\n",
       "<polygon fill=\"black\" stroke=\"black\" points=\"646.51,-130.61 638.94,-123.2 640.24,-133.71 646.51,-130.61\"/>\n",
       "<text text-anchor=\"middle\" x=\"673.6\" y=\"-144.8\" font-family=\"Times,serif\" font-size=\"14.00\">PM</text>\n",
       "</g>\n",
       "<!-- 1054&#45;&gt;5672 -->\n",
       "<g id=\"edge22\" class=\"edge\">\n",
       "<title>1054&#45;&gt;5672</title>\n",
       "<path fill=\"none\" stroke=\"black\" d=\"M761.89,-176.66C753.82,-171.38 746.15,-164.55 741.6,-156 737.66,-148.61 738.52,-140.03 741.23,-132.1\"/>\n",
       "<polygon fill=\"black\" stroke=\"black\" points=\"744.47,-133.42 745.25,-122.86 738.05,-130.63 744.47,-133.42\"/>\n",
       "<text text-anchor=\"middle\" x=\"752.6\" y=\"-144.8\" font-family=\"Times,serif\" font-size=\"14.00\">PM</text>\n",
       "</g>\n",
       "<!-- 1054&#45;&gt;1055 -->\n",
       "<g id=\"edge10\" class=\"edge\">\n",
       "<title>1054&#45;&gt;1055</title>\n",
       "<path fill=\"none\" stroke=\"black\" d=\"M798.05,-173.64C801.25,-163.45 806.29,-150.71 813.6,-141 817.58,-135.71 822.56,-130.79 827.74,-126.41\"/>\n",
       "<polygon fill=\"black\" stroke=\"black\" points=\"830.21,-128.92 835.93,-120 825.89,-123.41 830.21,-128.92\"/>\n",
       "<text text-anchor=\"middle\" x=\"824.6\" y=\"-144.8\" font-family=\"Times,serif\" font-size=\"14.00\">PM</text>\n",
       "</g>\n",
       "<!-- 1054&#45;&gt;1097 -->\n",
       "<g id=\"edge15\" class=\"edge\">\n",
       "<title>1054&#45;&gt;1097</title>\n",
       "<path fill=\"none\" stroke=\"black\" d=\"M827.28,-176.94C841.91,-170.71 859.18,-163.18 874.6,-156 895.37,-146.33 918.25,-134.94 936.88,-125.48\"/>\n",
       "<polygon fill=\"black\" stroke=\"black\" points=\"938.6,-128.53 945.92,-120.87 935.42,-122.29 938.6,-128.53\"/>\n",
       "<text text-anchor=\"middle\" x=\"916.6\" y=\"-144.8\" font-family=\"Times,serif\" font-size=\"14.00\">PM</text>\n",
       "</g>\n",
       "<!-- 644&#45;&gt;16 -->\n",
       "<g id=\"edge6\" class=\"edge\">\n",
       "<title>644&#45;&gt;16</title>\n",
       "<path fill=\"none\" stroke=\"black\" d=\"M518.36,-123.06C513.38,-134.22 505.29,-148.13 493.6,-156 469.24,-172.4 393.07,-182.09 340.77,-186.97\"/>\n",
       "<polygon fill=\"black\" stroke=\"black\" points=\"340.3,-183.5 330.65,-187.89 340.92,-190.47 340.3,-183.5\"/>\n",
       "<text text-anchor=\"middle\" x=\"515.1\" y=\"-144.8\" font-family=\"Times,serif\" font-size=\"14.00\">FI</text>\n",
       "</g>\n",
       "</g>\n",
       "</svg>\n"
      ],
      "text/plain": [
       "<graphviz.graphs.Digraph at 0x7fd3390b1090>"
      ]
     },
     "execution_count": 41,
     "metadata": {},
     "output_type": "execute_result"
    }
   ],
   "source": [
    "gr = Digraph()\n",
    "for i in range(len(vert_dict_lst)):\n",
    "    gr.node(vert_dict_lst[i]['id'], vert_dict_lst[i]['city'])\n",
    "for i in range(len(edges_dict_lst)):\n",
    "    gr.edge(edges_dict_lst[i]['src'], edges_dict_lst[i]['dst'], edges_dict_lst[i]['iata'])\n",
    "    \n",
    "gr"
   ]
  },
  {
   "cell_type": "markdown",
   "id": "cbd1771d-923a-49eb-9863-b249b16bacfa",
   "metadata": {},
   "source": [
    "## 5 - Bonus Task"
   ]
  },
  {
   "cell_type": "markdown",
   "id": "c7f73752-1fff-4529-8870-e01c0c36c578",
   "metadata": {},
   "source": [
    "### 5.1 - Max distance from \"Beijing Capital International Airport\" in 2 flights"
   ]
  },
  {
   "cell_type": "code",
   "execution_count": 42,
   "id": "5d96fcff-d0af-4594-86ac-541684e32de6",
   "metadata": {},
   "outputs": [],
   "source": [
    "# Motif-finding for 2 hops from Beijing\n",
    "beijing_name = \"Beijing Capital International Airport\"\n",
    "# Take only the IDs to be able to perform the join \n",
    "g_bei_2 = g.find(\"(a)-[]->(b); (b)-[]->(c)\")\\\n",
    "            .filter(f\"a.name == '{beijing_name}'\")\\\n",
    "            .filter(f\"c.name != '{beijing_name}'\")\\\n",
    "            .distinct().selectExpr(\"a.id AS id_a\",\\\n",
    "                                \"b.id AS id_b\",\\\n",
    "                                \"c.id AS id_c\")"
   ]
  },
  {
   "cell_type": "code",
   "execution_count": 43,
   "id": "572cb4d8-cffd-4811-bdd9-efb1724de170",
   "metadata": {},
   "outputs": [],
   "source": [
    "# Beijing coordinates\n",
    "beijing_airport_DF = airports_DF.filter(f\"name == '{beijing_name}'\")\n",
    "beijing_local = beijing_airport_DF.collect()[0].asDict()\n",
    "beijing_lat = float(beijing_local['latitude'])\n",
    "beijing_long = float(beijing_local['longitude'])"
   ]
  },
  {
   "cell_type": "code",
   "execution_count": 44,
   "id": "1db47653-4243-420a-9efc-2f091083fd95",
   "metadata": {},
   "outputs": [
    {
     "data": {
      "text/plain": [
       "<function __main__.distBeijing(coords1, coords2)>"
      ]
     },
     "execution_count": 44,
     "metadata": {},
     "output_type": "execute_result"
    }
   ],
   "source": [
    "# HAVERSINE FORMULA - UDF (from lab 03)\n",
    "import numpy as np\n",
    "\n",
    "def distBeijing(coords1, coords2):\n",
    "    lat1 = float(coords1[0]) * (np.pi/180)\n",
    "    lon1 = float(coords1[1]) * (np.pi/180)\n",
    "    lat2 = float(coords2[0]) * (np.pi/180)\n",
    "    lon2 = float(coords2[1]) * (np.pi/180)\n",
    "    dlon = lon2 - lon1\n",
    "    dlat = lat2 - lat1\n",
    "    \n",
    "    a = np.sin(dlat/2.0)**2+np.cos(lat1)*np.cos(lat2)*np.sin(dlon/2.0)**2\n",
    "    c = 2 * np.arcsin(np.sqrt(a))\n",
    "    km = 6367 * c\n",
    "    return float(km)  ### NOTE: the returned distance is already in km!\n",
    "\n",
    "spark.udf.register(\"distBeijing\", distBeijing)"
   ]
  },
  {
   "cell_type": "code",
   "execution_count": 45,
   "id": "e0ca5baf-ddb0-49a1-98b3-011702c79334",
   "metadata": {},
   "outputs": [],
   "source": [
    "# Include in the DF the coordinates of each airport\n",
    "airport_0 = airports_DF.selectExpr('id AS id_a','latitude AS lat_a',\\\n",
    "                                   'longitude AS long_a')\n",
    "airport_1 = airports_DF.selectExpr('id AS id_b','latitude AS lat_b',\\\n",
    "                                   'longitude AS long_b')\n",
    "airport_2 = airports_DF.selectExpr('id AS id_c','latitude AS lat_c',\\\n",
    "                                   'longitude AS long_c')\n",
    "\n",
    "g_2_with_coordinates_DF = g_bei_2.join(airport_0, 'id_a')\\\n",
    "                            .join(airport_1, 'id_b')\\\n",
    "                            .join(airport_2, 'id_c')"
   ]
  },
  {
   "cell_type": "code",
   "execution_count": 48,
   "id": "3cf6d6c1-fae7-41c3-b54f-b86b78f1ecc4",
   "metadata": {},
   "outputs": [
    {
     "name": "stderr",
     "output_type": "stream",
     "text": [
      "                                                                                \r"
     ]
    },
    {
     "data": {
      "text/plain": [
       "{'tot_dist': 25274.68083107938}"
      ]
     },
     "execution_count": 48,
     "metadata": {},
     "output_type": "execute_result"
    }
   ],
   "source": [
    "# Apply the UDF and get the distances:\n",
    "distances_DF = g_2_with_coordinates_DF\\\n",
    "        .selectExpr(\"\"\"distBeijing((lat_a, long_a), (lat_b, long_b))\n",
    "            + distBeijing((lat_b, long_b), (lat_c, long_c)) AS tot_dist\"\"\")\\\n",
    "        .sort(\"tot_dist\", ascending=False)\n",
    "distances_DF.head().asDict()    # Get 1st element of ordered DF"
   ]
  }
 ],
 "metadata": {
  "kernelspec": {
   "display_name": "GraphFrames (Yarn)",
   "language": "python",
   "name": "graphframe_yarn"
  },
  "language_info": {
   "codemirror_mode": {
    "name": "ipython",
    "version": 3
   },
   "file_extension": ".py",
   "mimetype": "text/x-python",
   "name": "python",
   "nbconvert_exporter": "python",
   "pygments_lexer": "ipython3",
   "version": "3.7.9"
  }
 },
 "nbformat": 4,
 "nbformat_minor": 5
}
