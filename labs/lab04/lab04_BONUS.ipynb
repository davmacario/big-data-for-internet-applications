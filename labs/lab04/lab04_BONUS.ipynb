{
 "cells": [
  {
   "cell_type": "markdown",
   "id": "023379ed-5129-4f52-8fee-f842ecc17ed4",
   "metadata": {},
   "source": [
    "# Lab 04 - Optional part"
   ]
  },
  {
   "cell_type": "code",
   "execution_count": 22,
   "id": "0384bcc9-29b2-4caa-9273-eb171e55961b",
   "metadata": {},
   "outputs": [
    {
     "name": "stderr",
     "output_type": "stream",
     "text": [
      "                                                                                \r"
     ]
    }
   ],
   "source": [
    "inputPath = '/data/students/bigdata_internet/lab4/log_tcp_complete_classes.txt'\n",
    "\n",
    "in_DF = spark.read.load(inputPath, format='csv', \\\n",
    "            sep=' ', header=True, inferSchema=True)"
   ]
  },
  {
   "cell_type": "markdown",
   "id": "8a5132cf-8798-4c0d-88d7-6d412ebfd79f",
   "metadata": {},
   "source": [
    "## 3.1 - Number of clients"
   ]
  },
  {
   "cell_type": "code",
   "execution_count": 23,
   "id": "dcb12ce6-031d-416f-b29e-d1288fd5c9a5",
   "metadata": {},
   "outputs": [
    {
     "data": {
      "text/plain": [
       "3844"
      ]
     },
     "execution_count": 23,
     "metadata": {},
     "output_type": "execute_result"
    }
   ],
   "source": [
    "in_DF.select(in_DF.columns[0]).distinct().count()"
   ]
  },
  {
   "cell_type": "markdown",
   "id": "918f4895-6de6-4018-a095-c520acb074e3",
   "metadata": {},
   "source": [
    "## 3.2 - Average number of connections"
   ]
  },
  {
   "cell_type": "code",
   "execution_count": 24,
   "id": "646f0bd0-02d4-475a-9c78-d17b839f49f8",
   "metadata": {},
   "outputs": [
    {
     "name": "stdout",
     "output_type": "stream",
     "text": [
      "['#31#c_ip:1', 'c_bytes_all:9', 's_bytes_all:23', 's_bytes_retx:25', 's_rtt_avg:52', 's_first:33']\n"
     ]
    }
   ],
   "source": [
    "# Isolate useful columns:\n",
    "indices = [0, 8, 22, 24, 51, 32]\n",
    "features = indices[1:]\n",
    "\n",
    "cols = [in_DF.columns[i] for i in indices]\n",
    "print(cols)\n",
    "in_DF.createOrReplaceTempView(\"input_table\")"
   ]
  },
  {
   "cell_type": "code",
   "execution_count": 25,
   "id": "f20bbaab-52b2-42a1-a046-dd79928a820e",
   "metadata": {},
   "outputs": [],
   "source": [
    "# At the same time, also isolate the features that will be needed after\n",
    "start_DF = in_DF.select(cols).groupBy(cols[0])\\\n",
    "        .agg({\"*\": \"count\",f\"{cols[1]}\": \"sum\", \n",
    "    f\"{cols[2]}\": \"sum\", f\"{cols[3]}\": \"sum\",\n",
    "    f\"{cols[4]}\": \"avg\", f\"{cols[5]}\": \"avg\"\n",
    "}).withColumnRenamed(f'{cols[0]}', 'src_ip')\\\n",
    ".withColumnRenamed('count(1)', 'n_conn')\\\n",
    ".withColumnRenamed(f'sum({cols[1]})', 'sum_upl_b')\\\n",
    ".withColumnRenamed(f'sum({cols[2]})', 'sum_dwn_b')\\\n",
    ".withColumnRenamed(f'sum({cols[3]})', 'sum_ret_b')\\\n",
    ".withColumnRenamed(f'avg({cols[4]})', 'avg_rtt')\\\n",
    ".withColumnRenamed(f'avg({cols[5]})', 'avg_proc')\n",
    "\n",
    "new_cols = ['src_ip', 'n_conn', 'sum_upl_b', 'sum_dwn_b', 'sum_ret_b', 'avg_rtt', 'avg_proc']"
   ]
  },
  {
   "cell_type": "code",
   "execution_count": 26,
   "id": "ea746808-31c5-463f-94f3-5a1ee1a6872b",
   "metadata": {},
   "outputs": [
    {
     "name": "stdout",
     "output_type": "stream",
     "text": [
      "+------------------+\n",
      "|       avg(n_conn)|\n",
      "+------------------+\n",
      "|26.014568158168576|\n",
      "+------------------+\n",
      "\n"
     ]
    }
   ],
   "source": [
    "avg_conn_DF = start_DF.agg({\"n_conn\": 'avg'})\\\n",
    "            .withColumnRenamed('avg(count(1))', 'avg_n_conn')\n",
    "\n",
    "avg_conn_DF.show(4)"
   ]
  },
  {
   "cell_type": "markdown",
   "id": "25521390-53bf-45cc-a41d-b2d4575c3bdb",
   "metadata": {},
   "source": [
    "## 3.3 - Top 5 active users"
   ]
  },
  {
   "cell_type": "code",
   "execution_count": 27,
   "id": "6cd77c70-0c5d-498b-ab04-ba73a9063e33",
   "metadata": {},
   "outputs": [
    {
     "name": "stdout",
     "output_type": "stream",
     "text": [
      "+--------------+------+\n",
      "|        src_ip|n_conn|\n",
      "+--------------+------+\n",
      "| 246.25.63.193|  1175|\n",
      "|246.25.221.106|   620|\n",
      "|  180.102.5.86|   528|\n",
      "|  246.25.63.82|   419|\n",
      "|  180.102.5.42|   403|\n",
      "+--------------+------+\n",
      "only showing top 5 rows\n",
      "\n"
     ]
    }
   ],
   "source": [
    "start_DF.select('src_ip', 'n_conn').sort('n_conn', ascending=False).show(5)"
   ]
  },
  {
   "cell_type": "markdown",
   "id": "bffd9171-c0a6-4f69-b356-95a77197ed0f",
   "metadata": {},
   "source": [
    "## Clustering\n",
    "\n",
    "### Pre-processing\n",
    "\n",
    "- Vector assembler: put the features together\n",
    "- StandardScaler - it could improve the performance of clustering"
   ]
  },
  {
   "cell_type": "code",
   "execution_count": 28,
   "id": "8b62a472-46cc-4f67-8374-6376399fdcb0",
   "metadata": {},
   "outputs": [
    {
     "name": "stdout",
     "output_type": "stream",
     "text": [
      "['n_conn', 'sum_upl_b', 'sum_dwn_b', 'sum_ret_b', 'avg_rtt', 'avg_proc']\n"
     ]
    }
   ],
   "source": [
    "from pyspark.ml.feature import VectorAssembler, StandardScaler, StringIndexer\n",
    "from pyspark.ml import Pipeline\n",
    "from pyspark.ml.clustering import KMeans, GaussianMixture\n",
    "from pyspark.ml.evaluation import ClusteringEvaluator\n",
    "\n",
    "feat_cols = new_cols[1:]\n",
    "print(feat_cols)\n",
    "VA = VectorAssembler(inputCols=feat_cols, outputCol='features')\n",
    "# Removing the mean does not change anything because of how clustering works\n",
    "SS = StandardScaler(inputCol='features', outputCol='features_norm', withStd=True, withMean=True)"
   ]
  },
  {
   "cell_type": "code",
   "execution_count": 29,
   "id": "2d450811-c234-4c28-b0b4-5d3c28c06e7a",
   "metadata": {},
   "outputs": [],
   "source": [
    "# Instantiate a performance evaluator\n",
    "eval_clust = ClusteringEvaluator(featuresCol='features_norm')"
   ]
  },
  {
   "cell_type": "markdown",
   "id": "0fafdfa2-c39c-439d-971c-3de4e732d079",
   "metadata": {},
   "source": [
    "### K-means clustering"
   ]
  },
  {
   "cell_type": "code",
   "execution_count": 30,
   "id": "cc7e7cea-2c66-4746-b509-1672dd263c72",
   "metadata": {},
   "outputs": [
    {
     "name": "stderr",
     "output_type": "stream",
     "text": [
      "                                                                                \r"
     ]
    }
   ],
   "source": [
    "kmeans_obj = KMeans(featuresCol='features_norm', k=6, initMode='k-means||', maxIter=500)\n",
    "pipeline_kmeans = Pipeline(stages=[VA, SS, kmeans_obj]).fit(start_DF)"
   ]
  },
  {
   "cell_type": "code",
   "execution_count": 31,
   "id": "7ebc4ab4-fe36-4ce7-8ed3-5c0c86dea484",
   "metadata": {},
   "outputs": [
    {
     "name": "stdout",
     "output_type": "stream",
     "text": [
      "Silhouette measure - K-means:  0.8761586097734072\n"
     ]
    }
   ],
   "source": [
    "kmeans_DF = pipeline_kmeans.transform(start_DF)\n",
    "# Performance\n",
    "sil_kmeans = eval_clust.evaluate(kmeans_DF)\n",
    "print(\"Silhouette measure - K-means: \", sil_kmeans)\n",
    "#0.42501770247509"
   ]
  },
  {
   "cell_type": "markdown",
   "id": "f1bada84-388e-4da2-a722-d5e86ffc8e1c",
   "metadata": {},
   "source": [
    "### Gaussian Mixture Model clustering"
   ]
  },
  {
   "cell_type": "code",
   "execution_count": 33,
   "id": "4c3da4d6-7744-488a-9795-6f9a9ec19ba7",
   "metadata": {},
   "outputs": [
    {
     "name": "stderr",
     "output_type": "stream",
     "text": [
      "                                                                                \r"
     ]
    }
   ],
   "source": [
    "gmm_obj = GaussianMixture(featuresCol='features_norm', k=6)\n",
    "pipeline_gmm = Pipeline(stages=[VA, SS, gmm_obj]).fit(start_DF)"
   ]
  },
  {
   "cell_type": "code",
   "execution_count": 34,
   "id": "aa3c6536-756c-4b4b-8202-1fe67a5b1a8c",
   "metadata": {},
   "outputs": [
    {
     "name": "stdout",
     "output_type": "stream",
     "text": [
      "Silhouette measure - gmm:  0.1833907975267755\n"
     ]
    }
   ],
   "source": [
    "gmm_DF = pipeline_gmm.transform(start_DF)\n",
    "# Performance\n",
    "sil_gmm = eval_clust.evaluate(gmm_DF)\n",
    "print(\"Silhouette measure - gmm: \", sil_gmm)"
   ]
  },
  {
   "cell_type": "code",
   "execution_count": null,
   "id": "e3067a00-86b1-455d-9d01-9f10d5b49830",
   "metadata": {},
   "outputs": [],
   "source": []
  }
 ],
 "metadata": {
  "kernelspec": {
   "display_name": "PySpark (Local)",
   "language": "python",
   "name": "pyspark_local"
  },
  "language_info": {
   "codemirror_mode": {
    "name": "ipython",
    "version": 3
   },
   "file_extension": ".py",
   "mimetype": "text/x-python",
   "name": "python",
   "nbconvert_exporter": "python",
   "pygments_lexer": "ipython3",
   "version": "3.7.9"
  }
 },
 "nbformat": 4,
 "nbformat_minor": 5
}
