{
 "cells": [
  {
   "cell_type": "markdown",
   "id": "099824f2-1682-4339-98eb-5e69e47d94be",
   "metadata": {},
   "source": [
    "# Review of RDD operations"
   ]
  },
  {
   "cell_type": "code",
   "execution_count": 1,
   "id": "d6507814-7e5c-45e3-8d5b-aa2596ba36e4",
   "metadata": {},
   "outputs": [],
   "source": [
    "string_start = [\"Ciao mi chiamo Davide e studio ingegneria al Politecnico di Torino. Quando non studio mi piace ascoltare la musica. In realtà ascolto la musica anche quando studio.\"]\n",
    "\n",
    "input_file = '/user/s315054/text.txt'\n",
    "\n",
    "in_RDD = sc.textFile(input_file)"
   ]
  },
  {
   "cell_type": "code",
   "execution_count": 2,
   "id": "0340d900-c2f6-41d7-9955-16f3d09005c5",
   "metadata": {},
   "outputs": [
    {
     "name": "stderr",
     "output_type": "stream",
     "text": [
      "                                                                                \r"
     ]
    },
    {
     "data": {
      "text/plain": [
       "['Ciao',\n",
       " 'mi',\n",
       " 'chiamo',\n",
       " 'Davide',\n",
       " 'e',\n",
       " 'studio',\n",
       " 'ingegneria',\n",
       " 'al',\n",
       " 'Politecnico',\n",
       " 'di',\n",
       " 'Torino.',\n",
       " 'Quando',\n",
       " 'non',\n",
       " 'studio',\n",
       " 'mi',\n",
       " 'piace',\n",
       " 'ascoltare',\n",
       " 'la',\n",
       " 'musica.',\n",
       " 'In',\n",
       " 'realtà',\n",
       " 'ascolto',\n",
       " 'la',\n",
       " 'musica',\n",
       " 'anche',\n",
       " 'quando',\n",
       " 'studio.']"
      ]
     },
     "execution_count": 2,
     "metadata": {},
     "output_type": "execute_result"
    }
   ],
   "source": [
    "flattened_RDD = in_RDD.flatMap(lambda l: l.split(' '))\n",
    "\n",
    "flattened_RDD.collect()"
   ]
  },
  {
   "cell_type": "code",
   "execution_count": 3,
   "id": "422ce8d6-ee37-4f0d-b04e-56ef52282691",
   "metadata": {},
   "outputs": [
    {
     "data": {
      "text/plain": [
       "['ciao',\n",
       " 'mi',\n",
       " 'chiamo',\n",
       " 'davide',\n",
       " 'e',\n",
       " 'studio',\n",
       " 'ingegneria',\n",
       " 'al',\n",
       " 'politecnico',\n",
       " 'di',\n",
       " 'torino',\n",
       " 'quando',\n",
       " 'non',\n",
       " 'studio',\n",
       " 'mi',\n",
       " 'piace',\n",
       " 'ascoltare',\n",
       " 'la',\n",
       " 'musica',\n",
       " 'in',\n",
       " 'realtà',\n",
       " 'ascolto',\n",
       " 'la',\n",
       " 'musica',\n",
       " 'anche',\n",
       " 'quando',\n",
       " 'studio']"
      ]
     },
     "execution_count": 3,
     "metadata": {},
     "output_type": "execute_result"
    }
   ],
   "source": [
    "sep_words_RDD = flattened_RDD.map(lambda l: l.lower().replace('.', ''))\n",
    "\n",
    "sep_words_RDD.collect()"
   ]
  },
  {
   "cell_type": "code",
   "execution_count": 4,
   "id": "c2e8131b-7cae-49e9-a3d6-507f2068ee00",
   "metadata": {},
   "outputs": [
    {
     "data": {
      "text/plain": [
       "defaultdict(int,\n",
       "            {'ciao': 1,\n",
       "             'mi': 2,\n",
       "             'chiamo': 1,\n",
       "             'davide': 1,\n",
       "             'e': 1,\n",
       "             'studio': 3,\n",
       "             'ingegneria': 1,\n",
       "             'al': 1,\n",
       "             'politecnico': 1,\n",
       "             'di': 1,\n",
       "             'torino': 1,\n",
       "             'quando': 2,\n",
       "             'non': 1,\n",
       "             'piace': 1,\n",
       "             'ascoltare': 1,\n",
       "             'la': 2,\n",
       "             'musica': 2,\n",
       "             'in': 1,\n",
       "             'realtà': 1,\n",
       "             'ascolto': 1,\n",
       "             'anche': 1})"
      ]
     },
     "execution_count": 4,
     "metadata": {},
     "output_type": "execute_result"
    }
   ],
   "source": [
    "sep_words_RDD.countByValue()"
   ]
  },
  {
   "cell_type": "code",
   "execution_count": 5,
   "id": "4c4ee7a5-a008-4fd1-bfa7-15dc0b4189e7",
   "metadata": {},
   "outputs": [
    {
     "data": {
      "text/plain": [
       "['realtà',\n",
       " 'chiamo',\n",
       " 'e',\n",
       " 'studio',\n",
       " 'ingegneria',\n",
       " 'di',\n",
       " 'non',\n",
       " 'la',\n",
       " 'anche',\n",
       " 'mi',\n",
       " 'al',\n",
       " 'piace',\n",
       " 'ascolto',\n",
       " 'ascoltare',\n",
       " 'musica',\n",
       " 'quando']"
      ]
     },
     "execution_count": 5,
     "metadata": {},
     "output_type": "execute_result"
    }
   ],
   "source": [
    "flattened_RDD.intersection(sep_words_RDD).collect()"
   ]
  },
  {
   "cell_type": "code",
   "execution_count": 6,
   "id": "062118c4-19bd-40c4-a300-5e02dff5e93a",
   "metadata": {},
   "outputs": [
    {
     "data": {
      "text/plain": [
       "'ciao'"
      ]
     },
     "execution_count": 6,
     "metadata": {},
     "output_type": "execute_result"
    }
   ],
   "source": [
    "sep_words_RDD.first()"
   ]
  },
  {
   "cell_type": "code",
   "execution_count": 7,
   "id": "4babbdaa-36db-492a-a647-e8e0c8558af6",
   "metadata": {},
   "outputs": [
    {
     "data": {
      "text/plain": [
       "['al', 'ascoltare']"
      ]
     },
     "execution_count": 7,
     "metadata": {},
     "output_type": "execute_result"
    }
   ],
   "source": [
    "# This allows to use reverse order, but 2nd letter is disregarded...\n",
    "sep_words_RDD.top(2, key=(lambda el: (-1*ord(el[0]))))"
   ]
  },
  {
   "cell_type": "code",
   "execution_count": 8,
   "id": "eab03dfe-f7d0-4f77-938e-669f4e6ef61e",
   "metadata": {},
   "outputs": [
    {
     "data": {
      "text/plain": [
       "['al', 'anche']"
      ]
     },
     "execution_count": 8,
     "metadata": {},
     "output_type": "execute_result"
    }
   ],
   "source": [
    "sep_words_RDD.takeOrdered(2)"
   ]
  },
  {
   "cell_type": "code",
   "execution_count": 9,
   "id": "6b4ca1c6-1d5e-401a-bd4c-897ceb83833e",
   "metadata": {},
   "outputs": [
    {
     "data": {
      "text/plain": [
       "'ciao mi chiamo davide e studio ingegneria al politecnico di torino quando non studio mi piace ascoltare la musica in realtà ascolto la musica anche quando studio'"
      ]
     },
     "execution_count": 9,
     "metadata": {},
     "output_type": "execute_result"
    }
   ],
   "source": [
    "sep_words_RDD.reduce(lambda w1, w2: str(w1) + ' ' + str(w2))"
   ]
  },
  {
   "cell_type": "code",
   "execution_count": 10,
   "id": "858805fb-1ba7-4dcc-a026-f8c797e83b8d",
   "metadata": {},
   "outputs": [
    {
     "data": {
      "text/plain": [
       "' ciao mi chiamo davide e studio ingegneria al politecnico di torino quando non studio mi piace ascoltare la musica in realtà ascolto la musica anche quando studio '"
      ]
     },
     "execution_count": 10,
     "metadata": {},
     "output_type": "execute_result"
    }
   ],
   "source": [
    "sep_words_RDD.fold('', lambda w1, w2: w1 + ' ' + w2).replace('  ', ' ')"
   ]
  },
  {
   "cell_type": "markdown",
   "id": "e006f695-530b-4f73-be09-7424b783ec20",
   "metadata": {},
   "source": [
    "## Pair RDD"
   ]
  },
  {
   "cell_type": "code",
   "execution_count": 11,
   "id": "00d24e36-68bd-4dc5-a9c5-cc07517cbd62",
   "metadata": {},
   "outputs": [
    {
     "data": {
      "text/plain": [
       "[('ciao', 1),\n",
       " ('mi', 1),\n",
       " ('chiamo', 1),\n",
       " ('davide', 1),\n",
       " ('e', 1),\n",
       " ('studio', 1),\n",
       " ('ingegneria', 1),\n",
       " ('al', 1),\n",
       " ('politecnico', 1),\n",
       " ('di', 1),\n",
       " ('torino', 1),\n",
       " ('quando', 1),\n",
       " ('non', 1),\n",
       " ('studio', 1),\n",
       " ('mi', 1),\n",
       " ('piace', 1),\n",
       " ('ascoltare', 1),\n",
       " ('la', 1),\n",
       " ('musica', 1),\n",
       " ('in', 1),\n",
       " ('realtà', 1),\n",
       " ('ascolto', 1),\n",
       " ('la', 1),\n",
       " ('musica', 1),\n",
       " ('anche', 1),\n",
       " ('quando', 1),\n",
       " ('studio', 1)]"
      ]
     },
     "execution_count": 11,
     "metadata": {},
     "output_type": "execute_result"
    }
   ],
   "source": [
    "pair_RDD = sep_words_RDD.map(lambda w: (w, 1))\n",
    "\n",
    "pair_RDD.collect()"
   ]
  },
  {
   "cell_type": "code",
   "execution_count": 12,
   "id": "094fc4a9-9f08-40be-ac21-a9aa2e32fa23",
   "metadata": {},
   "outputs": [
    {
     "data": {
      "text/plain": [
       "[('ciao', 1),\n",
       " ('mi', 1),\n",
       " ('chiamo', 1),\n",
       " ('davide', 1),\n",
       " ('e', 1),\n",
       " ('studio', 1),\n",
       " ('ingegneria', 1),\n",
       " ('al', 1),\n",
       " ('politecnico', 1),\n",
       " ('di', 1),\n",
       " ('torino', 1),\n",
       " ('quando', 1),\n",
       " ('non', 1),\n",
       " ('studio', 1),\n",
       " ('mi', 1),\n",
       " ('piace', 1),\n",
       " ('ascoltare', 1),\n",
       " ('la', 1),\n",
       " ('musica', 1),\n",
       " ('in', 1),\n",
       " ('realtà', 1),\n",
       " ('ascolto', 1),\n",
       " ('la', 1),\n",
       " ('musica', 1),\n",
       " ('anche', 1),\n",
       " ('quando', 1),\n",
       " ('studio', 1)]"
      ]
     },
     "execution_count": 12,
     "metadata": {},
     "output_type": "execute_result"
    }
   ],
   "source": [
    "# Another approach: from initial file\n",
    "pair_RDD_2 = in_RDD.flatMap(\n",
    "    lambda l: map(lambda w: (w, 1), [el.lower().replace('.', '') for el in l.split(' ')]))\n",
    "\n",
    "# Approach: use flat map to create an RDD of (`word`, 1)\n",
    "# From the initial file, use flatMap() to define the rdd\n",
    "\n",
    "# The function in the flat map performs a Python mapping between each line and a list\n",
    "# of (`word`, 1) elements for each word in the line (in this case 1 line only)\n",
    "\n",
    "pair_RDD_2.collect()"
   ]
  },
  {
   "cell_type": "code",
   "execution_count": 13,
   "id": "9cd101a2-a1d5-4f52-b359-c15220dae16a",
   "metadata": {},
   "outputs": [
    {
     "data": {
      "text/plain": [
       "[('in', ([10, 3], [1])),\n",
       " ('realtà', ([10, 3], [1])),\n",
       " ('ciao', ([10, 3], [1])),\n",
       " ('chiamo', ([10, 3], [1])),\n",
       " ('davide', ([10, 3], [1])),\n",
       " ('e', ([10, 3], [1])),\n",
       " ('studio', ([10, 3, 10, 3, 10, 3], [1, 1, 1])),\n",
       " ('ingegneria', ([10, 3], [1])),\n",
       " ('politecnico', ([10, 3], [1])),\n",
       " ('di', ([10, 3], [1])),\n",
       " ('non', ([10, 3], [1])),\n",
       " ('la', ([10, 3, 10, 3], [1, 1])),\n",
       " ('anche', ([10, 3], [1])),\n",
       " ('mi', ([10, 3, 10, 3], [1, 1])),\n",
       " ('al', ([10, 3], [1])),\n",
       " ('torino', ([10, 3], [1])),\n",
       " ('piace', ([10, 3], [1])),\n",
       " ('ascolto', ([10, 3], [1])),\n",
       " ('quando', ([10, 3, 10, 3], [1, 1])),\n",
       " ('ascoltare', ([10, 3], [1])),\n",
       " ('musica', ([10, 3, 10, 3], [1, 1]))]"
      ]
     },
     "execution_count": 13,
     "metadata": {},
     "output_type": "execute_result"
    }
   ],
   "source": [
    "# mapValues vs. flatMapValues:\n",
    "pair_RDD_2.flatMapValues(lambda v: [v*10, v+2]).cogroup(pair_RDD).mapValues(lambda v: (list(v[0]), list(v[1]))).collect()"
   ]
  },
  {
   "cell_type": "code",
   "execution_count": null,
   "id": "c42659c4-aaa8-4d6d-beb1-18facd735fd6",
   "metadata": {},
   "outputs": [],
   "source": []
  },
  {
   "cell_type": "code",
   "execution_count": null,
   "id": "23ea3acf-5f33-46a5-8801-99805385bee2",
   "metadata": {},
   "outputs": [],
   "source": []
  },
  {
   "cell_type": "markdown",
   "id": "596292a1-b9e9-487f-b32c-715fa7004a32",
   "metadata": {},
   "source": [
    "## Testing accumulators"
   ]
  },
  {
   "cell_type": "code",
   "execution_count": 8,
   "id": "26572358-4b85-47a0-8302-10c5c019db83",
   "metadata": {},
   "outputs": [
    {
     "name": "stdout",
     "output_type": "stream",
     "text": [
      "Accumulator value:  3\n",
      "['ciao', 'chiamo', 'davide', 'studio', 'ingegneria', 'politecnico', 'torino', 'quando', 'studio', 'piace', 'ascoltare', 'musica', 'realtà', 'ascolto', 'musica', 'anche', 'quando', 'studio']\n"
     ]
    }
   ],
   "source": [
    "myAcc = sc.accumulator(0)\n",
    "\n",
    "def myCountLetter(word, letter):\n",
    "    if len(word) > 3:\n",
    "        if word.startswith(letter):\n",
    "            myAcc.add(1)\n",
    "        return True\n",
    "\n",
    "long_words_RDD = sep_words_RDD.filter(lambda w: myCountLetter(w, 'a'))\n",
    "out = long_words_RDD.collect()\n",
    "print(\"Accumulator value: \", myAcc.value)\n",
    "print(out)"
   ]
  },
  {
   "cell_type": "code",
   "execution_count": null,
   "id": "3f3ba5fa-5277-452a-b614-28ef8a911af3",
   "metadata": {},
   "outputs": [],
   "source": []
  },
  {
   "cell_type": "code",
   "execution_count": null,
   "id": "0e53eefe-eee4-4527-93d3-c14f4a0f1fb6",
   "metadata": {},
   "outputs": [],
   "source": []
  },
  {
   "cell_type": "code",
   "execution_count": null,
   "id": "681c9ea4-421a-4ce0-8268-dff35fcfd3a3",
   "metadata": {},
   "outputs": [],
   "source": []
  },
  {
   "cell_type": "code",
   "execution_count": null,
   "id": "75ce8bfb-b23e-438a-add8-d11accd85da1",
   "metadata": {},
   "outputs": [],
   "source": []
  },
  {
   "cell_type": "code",
   "execution_count": null,
   "id": "059f512b-bd13-4d82-8282-48a8b14ff033",
   "metadata": {},
   "outputs": [],
   "source": []
  }
 ],
 "metadata": {
  "kernelspec": {
   "display_name": "PySpark (Local)",
   "language": "python",
   "name": "pyspark_local"
  },
  "language_info": {
   "codemirror_mode": {
    "name": "ipython",
    "version": 3
   },
   "file_extension": ".py",
   "mimetype": "text/x-python",
   "name": "python",
   "nbconvert_exporter": "python",
   "pygments_lexer": "ipython3",
   "version": "3.7.12"
  }
 },
 "nbformat": 4,
 "nbformat_minor": 5
}
