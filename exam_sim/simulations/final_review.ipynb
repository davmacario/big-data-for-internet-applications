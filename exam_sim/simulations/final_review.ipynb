{
 "cells": [
  {
   "cell_type": "markdown",
   "id": "2b66d09a-9baa-480b-aac5-2971762a4a42",
   "metadata": {},
   "source": [
    "# Ripasso finale\n",
    "\n"
   ]
  },
  {
   "cell_type": "markdown",
   "id": "6b71a057-e497-430d-8422-07fc4c2be5fd",
   "metadata": {},
   "source": [
    "## Ex 1 - Exam example 1\n"
   ]
  },
  {
   "cell_type": "code",
   "execution_count": 1,
   "id": "5a0e91f7-1f49-46ba-a18c-51902b6998dc",
   "metadata": {},
   "outputs": [
    {
     "name": "stdout",
     "output_type": "stream",
     "text": [
      "root\n",
      " |-- stockID: string (nullable = true)\n",
      " |-- date: string (nullable = true)\n",
      " |-- time: string (nullable = true)\n",
      " |-- price: double (nullable = true)\n",
      "\n"
     ]
    },
    {
     "name": "stderr",
     "output_type": "stream",
     "text": [
      "                                                                                \r"
     ]
    },
    {
     "name": "stdout",
     "output_type": "stream",
     "text": [
      "+-------+-------+\n",
      "|stockID|n_dates|\n",
      "+-------+-------+\n",
      "|   GOOG|      8|\n",
      "|   FCAU|      7|\n",
      "|   AMZN|      1|\n",
      "+-------+-------+\n",
      "\n"
     ]
    }
   ],
   "source": [
    "# DFs\n",
    "\n",
    "in_file = '/data/students/bigdata_internet/exam_examples_data/example1_data/Prices.txt'\n",
    "\n",
    "out_1 = '/user/s315054/exam_sim/SimEx1_1'\n",
    "\n",
    "in_DF = spark.read.load(in_file, format='csv', header=False, inferSchema=True).toDF('stockID', 'date', 'time', 'price')\n",
    "\n",
    "in_DF.createOrReplaceTempView('in_tab')\n",
    "\n",
    "spark.udf.register('getYear', lambda date: int(date.split('/')[0]))\n",
    "\n",
    "out_DF = spark.sql(\"\"\"\n",
    "        SELECT stockID, count(distinct(date)) AS n_dates\n",
    "        FROM in_tab\n",
    "        WHERE getYear(date) == 2016 AND price > 10\n",
    "        GROUP BY stockID\n",
    "        HAVING count(distinct(date))\n",
    "\"\"\")\n",
    "\n",
    "in_DF.printSchema()\n",
    "out_DF.show()"
   ]
  },
  {
   "cell_type": "markdown",
   "id": "385bf340-8e82-4721-8c72-264179f16b0c",
   "metadata": {},
   "source": [
    "## Ex2_1 - Exam example 1\n"
   ]
  },
  {
   "cell_type": "code",
   "execution_count": 9,
   "id": "bcbab493-c876-488c-9797-5541e7e3b97b",
   "metadata": {},
   "outputs": [
    {
     "name": "stderr",
     "output_type": "stream",
     "text": [
      "23/02/02 21:37:08 WARN analysis.SimpleFunctionRegistry: The function makestr replaced a previously registered function.\n"
     ]
    },
    {
     "name": "stdout",
     "output_type": "stream",
     "text": [
      "+---------------+---------+\n",
      "|          myStr|max_price|\n",
      "+---------------+---------+\n",
      "|AMZN_2016/01/04|     14.0|\n",
      "|FCAU_2016/06/20|     11.0|\n",
      "|FCAU_2016/06/21|     12.0|\n",
      "|FCAU_2016/07/20|     11.0|\n",
      "|FCAU_2016/07/21|     12.0|\n",
      "|FCAU_2016/12/01|     9.95|\n",
      "|FCAU_2016/12/02|      9.9|\n",
      "|FCAU_2016/12/03|     10.1|\n",
      "|FCAU_2016/12/04|     10.5|\n",
      "|FCAU_2016/12/05|    10.53|\n",
      "|GOOG_2016/01/01|     43.0|\n",
      "|GOOG_2016/01/02|     45.0|\n",
      "|GOOG_2016/01/03|     46.0|\n",
      "|GOOG_2016/01/04|     40.0|\n",
      "|GOOG_2016/06/20|     51.0|\n",
      "|GOOG_2016/06/21|    51.99|\n",
      "|GOOG_2016/07/20|    54.99|\n",
      "|GOOG_2016/07/21|    51.99|\n",
      "+---------------+---------+\n",
      "\n"
     ]
    },
    {
     "name": "stderr",
     "output_type": "stream",
     "text": [
      "                                                                                \r"
     ]
    }
   ],
   "source": [
    "# With DFs\n",
    "\n",
    "spark.udf.register('makeStr', lambda c1, c2: str(c1) + '_' + str(c2))\n",
    "\n",
    "out_2_1 = spark.sql(\"\"\"\n",
    "            SELECT makeStr(stockID, date) AS myStr, max(CAST(price AS float)) AS max_price\n",
    "            FROM in_tab\n",
    "            WHERE getYear(date) == 2016\n",
    "            GROUP BY stockID, date\n",
    "            ORDER BY stockID, date\n",
    "\"\"\")\n",
    "\n",
    "out_2_1.show()"
   ]
  },
  {
   "cell_type": "code",
   "execution_count": null,
   "id": "3629ef8e-a6f2-4519-8d08-65f7c6e6d64c",
   "metadata": {},
   "outputs": [],
   "source": []
  },
  {
   "cell_type": "code",
   "execution_count": null,
   "id": "9df278c8-9d73-4cbc-8191-7ce81ee85a96",
   "metadata": {},
   "outputs": [],
   "source": []
  },
  {
   "cell_type": "code",
   "execution_count": null,
   "id": "6e8e1d81-8ab7-4b23-80a0-b9219ba253f2",
   "metadata": {},
   "outputs": [],
   "source": []
  },
  {
   "cell_type": "code",
   "execution_count": null,
   "id": "ae85cd42-6717-492c-8910-e6337bd7a267",
   "metadata": {},
   "outputs": [],
   "source": []
  },
  {
   "cell_type": "code",
   "execution_count": null,
   "id": "48ad78aa-6020-474e-8609-9ac0d2235616",
   "metadata": {},
   "outputs": [],
   "source": []
  },
  {
   "cell_type": "code",
   "execution_count": null,
   "id": "a2d857cd-1028-46cd-9638-74da8222a3bf",
   "metadata": {},
   "outputs": [],
   "source": []
  },
  {
   "cell_type": "code",
   "execution_count": null,
   "id": "0727a9f0-d962-4cc1-851f-17ab93cc29f7",
   "metadata": {},
   "outputs": [],
   "source": []
  },
  {
   "cell_type": "code",
   "execution_count": null,
   "id": "70fa3b04-8697-4bed-950c-940ab23d01b9",
   "metadata": {},
   "outputs": [],
   "source": []
  }
 ],
 "metadata": {
  "kernelspec": {
   "display_name": "PySpark (Local)",
   "language": "python",
   "name": "pyspark_local"
  },
  "language_info": {
   "codemirror_mode": {
    "name": "ipython",
    "version": 3
   },
   "file_extension": ".py",
   "mimetype": "text/x-python",
   "name": "python",
   "nbconvert_exporter": "python",
   "pygments_lexer": "ipython3",
   "version": "3.7.12"
  }
 },
 "nbformat": 4,
 "nbformat_minor": 5
}
