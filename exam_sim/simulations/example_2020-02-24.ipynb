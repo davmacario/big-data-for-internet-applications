{
 "cells": [
  {
   "cell_type": "markdown",
   "id": "50700dc1-716b-45c4-8284-04243a71e4f5",
   "metadata": {},
   "source": [
    "# Exam of 24th Feb 2020\n",
    "\n",
    "## Part 1 - MCQ\n",
    "\n",
    "1. d - All other answers are wrong\n",
    "2. d - The output of each batch does not depend on other batches"
   ]
  },
  {
   "cell_type": "markdown",
   "id": "1efb0606-94a6-448a-a9e6-6d29f38b4ed9",
   "metadata": {},
   "source": [
    "## Part 2 - Exercises\n",
    "\n",
    "### Ex 1"
   ]
  },
  {
   "cell_type": "code",
   "execution_count": 18,
   "id": "d0721de7-9cd3-473b-b7cf-773c4f6942b9",
   "metadata": {},
   "outputs": [
    {
     "name": "stdout",
     "output_type": "stream",
     "text": [
      "23/02/01 14:42:50 INFO fs.TrashPolicyDefault: Moved: 'hdfs://BigDataHA/user/s315054/exam_sim/ex_2020_02_24/ex1' to trash at: hdfs://BigDataHA/user/s315054/.Trash/Current/user/s315054/exam_sim/ex_2020_02_24/ex11675262570370\n"
     ]
    }
   ],
   "source": [
    "!hdfs dfs -rm -r /user/s315054/exam_sim/ex_2020_02_24/ex1"
   ]
  },
  {
   "cell_type": "code",
   "execution_count": 19,
   "id": "fbf7172d-5f88-4ba4-8bdc-bd6e23a0c1de",
   "metadata": {},
   "outputs": [],
   "source": [
    "# With DFs\n",
    "\n",
    "#import sys\n",
    "\n",
    "out_1 = '/user/s315054/exam_sim/ex_2020_02_24/ex1'\n",
    "in_a = '/data/students/bigdata_internet/exam_examples_data/exam20200221_data/Bicycles.txt'\n",
    "in_b = '/data/students/bigdata_internet/exam_examples_data/exam20200221_data/Bicycles_Unavailable.txt'\n",
    "\n",
    "unav_DF = spark.read.load(in_b, format='csv', sep=',', header=False)\\\n",
    "                .toDF('BID', 'from_ts', 'to_ts')\n",
    "unav_DF.createOrReplaceTempView('unavail_table')\n",
    "\n",
    "bikes_DF = spark.read.load(in_a, format='csv', sep=',', header=False)\\\n",
    "                .toDF('BID', 'manufacturer', 'city', 'country')\n",
    "bikes_DF.createOrReplaceTempView('bikes_table')\n",
    "\n",
    "tmp_DF = spark.sql(\"\"\"\n",
    "        SELECT unavail_table.BID\n",
    "        FROM unavail_table\n",
    "        GROUP BY unavail_table.BID\n",
    "        HAVING count(*) >= 100\n",
    "\"\"\")\n",
    "\n",
    "out_1_DF = tmp_DF.join(bikes_DF.select('BID', 'manufacturer'), 'BID')\n",
    "\n",
    "out_1_DF.write.csv(out_1, header=False)"
   ]
  },
  {
   "cell_type": "code",
   "execution_count": 23,
   "id": "3c70b742-770f-4d0b-b056-6c333b557dde",
   "metadata": {},
   "outputs": [
    {
     "name": "stderr",
     "output_type": "stream",
     "text": [
      "                                                                                \r"
     ]
    },
    {
     "data": {
      "text/plain": [
       "318"
      ]
     },
     "execution_count": 23,
     "metadata": {},
     "output_type": "execute_result"
    }
   ],
   "source": [
    "unav_DF.select('BID').distinct().count()"
   ]
  },
  {
   "cell_type": "code",
   "execution_count": 24,
   "id": "1ebc9256-fa08-43ac-a94f-0a73cf349fe3",
   "metadata": {},
   "outputs": [
    {
     "data": {
      "text/plain": [
       "998"
      ]
     },
     "execution_count": 24,
     "metadata": {},
     "output_type": "execute_result"
    }
   ],
   "source": [
    "unav_DF.select('BID').count()"
   ]
  },
  {
   "cell_type": "markdown",
   "id": "6a920045-c67c-425f-ae98-6c7539c1eee9",
   "metadata": {},
   "source": [
    "### Ex 2.1"
   ]
  },
  {
   "cell_type": "code",
   "execution_count": null,
   "id": "b8270a11-f430-42e5-bc54-cef0353a9abc",
   "metadata": {},
   "outputs": [],
   "source": [
    "!hdfs dfs -rm -r /user/s315054/exam_sim/ex_2020_02_24/ex2_1"
   ]
  },
  {
   "cell_type": "code",
   "execution_count": 26,
   "id": "cdc009a9-fca5-4382-9529-7977f711f2d8",
   "metadata": {},
   "outputs": [
    {
     "name": "stderr",
     "output_type": "stream",
     "text": [
      "23/02/01 14:45:59 WARN analysis.SimpleFunctionRegistry: The function getyear replaced a previously registered function.\n",
      "                                                                                \r"
     ]
    }
   ],
   "source": [
    "# DFs\n",
    "\n",
    "in_a = '/data/students/bigdata_internet/exam_examples_data/exam20200221_data/Bicycles.txt'\n",
    "in_b = '/data/students/bigdata_internet/exam_examples_data/exam20200221_data/Bicycles_Unavailable.txt'\n",
    "\n",
    "out_2_1 = '/user/s315054/exam_sim/ex_2020_02_24/ex2_1'\n",
    "out_2_2 = '/user/s315054/exam_sim/ex_2020_02_24/ex2_2'\n",
    "\n",
    "unav_DF = spark.read.load(in_b, format='csv', header=False)\\\n",
    "                .toDF('BID', 'from_ts', 'to_ts')\n",
    "unav_DF.createOrReplaceTempView('unavail_tab')\n",
    "\n",
    "bikes_DF = spark.read.load(in_a, format='csv', header=False)\\\n",
    "                .toDF('BID', 'manufacturer', 'city', 'country')\n",
    "\n",
    "# UDF for getting the year from the timestamp:\n",
    "spark.udf.register('getYear', lambda ts: int(ts.split('/')[0]))\n",
    "\n",
    "# Keep unavailable bikes having both dates in 2018\n",
    "# Count how many records for each BID in 2018 and keep the ones having at least 5\n",
    "# Each BID will just appear once here\n",
    "n_unavail_DF = spark.sql(\"\"\"\n",
    "            SELECT BID, count(*)\n",
    "            FROM unavail_tab\n",
    "            WHERE getYear(from_ts) == 2018 AND getYear(to_ts) == 2018\n",
    "            GROUP BY BID\n",
    "            HAVING count(*) >= 5\n",
    "\"\"\")\n",
    "\n",
    "italian_cities_DF = bikes_DF.filter('country == \"Italy\"')\n",
    "\n",
    "with_cities_DF = n_unavail_DF.join(italian_cities_DF.select('BID', 'city'), 'BID').groupBy('city').agg({'BID':'count'})\\\n",
    "                                .withColumnRenamed('count(BID)', 'n_crit_bikes').filter('n_crit_bikes >= 100')\n",
    "\n",
    "with_cities_DF.select('city').write.csv(out_2_1, header=False)"
   ]
  },
  {
   "cell_type": "code",
   "execution_count": 31,
   "id": "ee0da99a-793c-4293-b670-c61a3572e6c4",
   "metadata": {},
   "outputs": [
    {
     "name": "stdout",
     "output_type": "stream",
     "text": [
      "+----+------------+\n",
      "|city|n_crit_bikes|\n",
      "+----+------------+\n",
      "+----+------------+\n",
      "\n"
     ]
    },
    {
     "name": "stderr",
     "output_type": "stream",
     "text": [
      "                                                                                \r"
     ]
    }
   ],
   "source": [
    "with_cities_DF.show()"
   ]
  },
  {
   "cell_type": "markdown",
   "id": "f854330e-7631-411e-a57e-f257897f7b4a",
   "metadata": {},
   "source": [
    "### Ex 2.2"
   ]
  },
  {
   "cell_type": "code",
   "execution_count": null,
   "id": "4bb1d207-c47a-4c4a-ac83-6b286e01baf6",
   "metadata": {},
   "outputs": [],
   "source": [
    "!hdfs dfs -rm -r /user/s315054/exam_sim/ex_2020_02_24/ex2_2"
   ]
  },
  {
   "cell_type": "code",
   "execution_count": 29,
   "id": "92a7687a-87c9-4209-bf75-2c73b2bc8e0f",
   "metadata": {},
   "outputs": [
    {
     "name": "stderr",
     "output_type": "stream",
     "text": [
      "23/02/01 14:46:52 WARN analysis.SimpleFunctionRegistry: The function getmonth replaced a previously registered function.\n",
      "                                                                                \r"
     ]
    }
   ],
   "source": [
    "# DFs from before\n",
    "\n",
    "# Get list of all cities:\n",
    "all_ita_cities_RDD = italian_cities_DF.select('city').distinct().rdd.map(lambda el: el.city)\n",
    "# Each element of the RDD is a LIST (length=1)\n",
    "\n",
    "\n",
    "# Work on the unavailable bikes\n",
    "\n",
    "# Filter for march 2019\n",
    "spark.udf.register('getMonth', lambda ts: int(ts.split('/')[1]))\n",
    "\n",
    "# Isolate records form march '19\n",
    "# Distinct at the end allows to only get a single element per BID - it is enough\n",
    "march_19_DF = spark.sql(\"\"\"\n",
    "            SELECT unavail_tab.BID\n",
    "            FROM unavail_tab\n",
    "            WHERE getYear(from_ts) == 2019 AND getYear(to_ts) == 2019 AND getMonth(from_ts) == 3 AND getMonth(to_ts) == 3\n",
    "\"\"\").distinct()\n",
    "\n",
    "# Get Italian city associated with each 'unavailable' BID - extract the city and remove duplicates\n",
    "unavail_cities_19_DF = march_19_DF.join(italian_cities_DF, 'BID')\n",
    "unavail_cities_RDD = unavail_cities_19_DF.select('city').distinct().rdd.map(lambda el: el.city)\n",
    "\n",
    "# Subtract bad cities from initial set - get cities with no unavailable bikes in march 2019\n",
    "okay_cities = all_ita_cities_RDD.subtract(unavail_cities_RDD)\n",
    "\n",
    "okay_cities.saveAsTextFile(out_2_2)\n"
   ]
  },
  {
   "cell_type": "code",
   "execution_count": 33,
   "id": "1b7f7791-36fb-4b67-b320-00e8e9876ee3",
   "metadata": {},
   "outputs": [
    {
     "data": {
      "text/plain": [
       "['Bologna']"
      ]
     },
     "execution_count": 33,
     "metadata": {},
     "output_type": "execute_result"
    }
   ],
   "source": [
    "okay_cities.collect()"
   ]
  },
  {
   "cell_type": "code",
   "execution_count": 34,
   "id": "21669834-e0ec-47ee-82a7-680edf45c496",
   "metadata": {},
   "outputs": [
    {
     "data": {
      "text/plain": [
       "['Bologna', 'Venice', 'Milan', 'Rome', 'Turin']"
      ]
     },
     "execution_count": 34,
     "metadata": {},
     "output_type": "execute_result"
    }
   ],
   "source": [
    "all_ita_cities_RDD.collect()"
   ]
  },
  {
   "cell_type": "code",
   "execution_count": 37,
   "id": "93806bb0-5425-421c-bb35-04100960fec0",
   "metadata": {},
   "outputs": [
    {
     "data": {
      "text/plain": [
       "['Bologna', 'Venice', 'Milan', 'Rome', 'Turin']"
      ]
     },
     "execution_count": 37,
     "metadata": {},
     "output_type": "execute_result"
    }
   ],
   "source": [
    "italian_cities_DF.select('city').distinct().rdd.map(lambda el: el.city).collect()"
   ]
  },
  {
   "cell_type": "code",
   "execution_count": null,
   "id": "8b875b98-ebaf-4362-9d03-9dd0310f8516",
   "metadata": {},
   "outputs": [],
   "source": []
  },
  {
   "cell_type": "code",
   "execution_count": null,
   "id": "e0cba548-dc09-423e-bf55-0e43bc0c25df",
   "metadata": {},
   "outputs": [],
   "source": []
  },
  {
   "cell_type": "code",
   "execution_count": null,
   "id": "fa86f890-03ba-40b5-82be-e50c15a1934c",
   "metadata": {},
   "outputs": [],
   "source": []
  },
  {
   "cell_type": "code",
   "execution_count": null,
   "id": "9c0e0162-d4d5-4cae-8d3a-66cdf97824cb",
   "metadata": {},
   "outputs": [],
   "source": []
  },
  {
   "cell_type": "code",
   "execution_count": null,
   "id": "68e412e3-b75a-4a3a-9022-e31e50e570d2",
   "metadata": {},
   "outputs": [],
   "source": []
  },
  {
   "cell_type": "code",
   "execution_count": null,
   "id": "6c07c3c5-57f8-4626-904c-97aa01e608d9",
   "metadata": {},
   "outputs": [],
   "source": []
  },
  {
   "cell_type": "code",
   "execution_count": null,
   "id": "1164bfc6-50d7-4ba8-b324-22a3f11a4847",
   "metadata": {},
   "outputs": [],
   "source": []
  },
  {
   "cell_type": "code",
   "execution_count": null,
   "id": "2b37bc32-6a5f-4558-83a4-55b6e2feda79",
   "metadata": {},
   "outputs": [],
   "source": []
  },
  {
   "cell_type": "code",
   "execution_count": null,
   "id": "363da373-1e04-46a7-a15e-7de9b3a58c60",
   "metadata": {},
   "outputs": [],
   "source": []
  },
  {
   "cell_type": "code",
   "execution_count": null,
   "id": "829790b4-39b6-41f4-a4cb-dfc189593bd8",
   "metadata": {},
   "outputs": [],
   "source": []
  },
  {
   "cell_type": "code",
   "execution_count": null,
   "id": "8311dad3-3857-47c4-8779-b5ec55f28818",
   "metadata": {},
   "outputs": [],
   "source": []
  },
  {
   "cell_type": "code",
   "execution_count": null,
   "id": "4bc25d6e-5096-403e-ab1a-d245b094531d",
   "metadata": {},
   "outputs": [],
   "source": []
  }
 ],
 "metadata": {
  "kernelspec": {
   "display_name": "PySpark (Local)",
   "language": "python",
   "name": "pyspark_local"
  },
  "language_info": {
   "codemirror_mode": {
    "name": "ipython",
    "version": 3
   },
   "file_extension": ".py",
   "mimetype": "text/x-python",
   "name": "python",
   "nbconvert_exporter": "python",
   "pygments_lexer": "ipython3",
   "version": "3.7.12"
  }
 },
 "nbformat": 4,
 "nbformat_minor": 5
}
