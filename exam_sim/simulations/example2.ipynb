{
 "cells": [
  {
   "cell_type": "markdown",
   "id": "e379871a-20a5-474a-9b4e-ef14cc824176",
   "metadata": {},
   "source": [
    "# Exam simulation - ExamExample2\n",
    "\n",
    "## Part 1 - MCQ\n",
    "\n",
    "1. The true answer is: 'After applying “oneHotEncoderEstimator”, an integer is transformed into a vector', indeed that's how oneHotEncoderEstimator works, by transforming a column of tokens into a column of one-hot vectors.\n",
    "2. The false option is: '\"e2\" is a graphframe', indeed it is a DataFrame (containing the edges of graph \"g2\"), as it is obtained by filtering \"e\".\n",
    "\n",
    "## Part 2 - Exercises"
   ]
  },
  {
   "cell_type": "markdown",
   "id": "79b70383-8d20-4d6f-a54f-3220ccede0ea",
   "metadata": {},
   "source": [
    "### 1 \n",
    "\n",
    "Isolate the cities with at least one day with max temperature > 35° and the with at least one day having min temperature < -20."
   ]
  },
  {
   "cell_type": "code",
   "execution_count": 3,
   "id": "15ec10f8-cdcf-4899-8988-4d303d3f8447",
   "metadata": {},
   "outputs": [
    {
     "name": "stderr",
     "output_type": "stream",
     "text": [
      "23/01/25 10:36:56 WARN analysis.SimpleFunctionRegistry: The function ismin replaced a previously registered function.\n",
      "23/01/25 10:36:56 WARN analysis.SimpleFunctionRegistry: The function ismax replaced a previously registered function.\n",
      "                                                                                \r"
     ]
    }
   ],
   "source": [
    "import sys\n",
    "\n",
    "# open file\n",
    "# in_file_1 = sys.argv[2]\n",
    "in_file_1 = '/data/students/bigdata_internet/exam_examples_data/example2_data/Temperatures.txt'\n",
    "\n",
    "# out_file_1 = sys.argv[1]\n",
    "out_file_1 = '/user/s315054/exam_sim/example2/p01'\n",
    "\n",
    "in_DF = spark.read.load(in_file_1, format='csv', sep=',', header=False, inferSchema=True)\\\n",
    "        .withColumnRenamed('_c0', 'date').withColumnRenamed('_c1', 'city')\\\n",
    "        .withColumnRenamed('_c2', 'country').withColumnRenamed('_c3', 't_max')\\\n",
    "        .withColumnRenamed('_c4', 't_min')\n",
    "\n",
    "spark.udf.register('isMin', lambda t: int(t<-20))\n",
    "spark.udf.register('isMax', lambda t: int(t>35))\n",
    "\n",
    "ok_DF = in_DF.filter(\"t_max > 35 OR t_min < -20\").selectExpr('city', 'date', 'isMin(t_min) AS min_ind', 'isMax(t_max) AS max_ind')\n",
    "\n",
    "final_DF = ok_DF.groupBy('city').agg({'min_ind':'sum', 'max_ind':'sum'}).filter('sum(min_ind) > 0 AND sum(max_ind) > 0')\n",
    "\n",
    "final_DF.select('city').write.csv(out_file_1, header=False)"
   ]
  },
  {
   "cell_type": "markdown",
   "id": "f5cf854c-6673-4d0b-9144-8e6dbb14df6d",
   "metadata": {},
   "source": [
    "### 2 Analyzing 2015 data"
   ]
  },
  {
   "cell_type": "code",
   "execution_count": 10,
   "id": "bd4c95e1-3841-4678-b3b7-ff04e1577a6e",
   "metadata": {},
   "outputs": [],
   "source": [
    "import sys\n",
    "\n",
    "# in_file_2 = sys.argv[1]\n",
    "# out_file_2a = sys.argv[2]\n",
    "# out_file_2b = sys.argv[3]\n",
    "\n",
    "in_file_2 = in_file_1\n",
    "\n",
    "out_file_2a = '/user/s315054/exam_sim/example2/p02a'\n",
    "out_file_2b = '/user/s315054/exam_sim/example2/p02b'\n",
    "\n",
    "# in_DF = ...\n"
   ]
  },
  {
   "cell_type": "markdown",
   "id": "af203e19-8857-4ad0-98c5-6310f5def4fe",
   "metadata": {},
   "source": [
    "#### a - average of the max temp. for each city in 2015"
   ]
  },
  {
   "cell_type": "code",
   "execution_count": 11,
   "id": "41c0bef6-fedd-410a-9dd1-e1b34f590b79",
   "metadata": {},
   "outputs": [
    {
     "name": "stderr",
     "output_type": "stream",
     "text": [
      "23/01/25 10:50:28 WARN analysis.SimpleFunctionRegistry: The function getyear replaced a previously registered function.\n",
      "23/01/25 10:50:28 WARN analysis.SimpleFunctionRegistry: The function concatenate replaced a previously registered function.\n",
      "                                                                                \r"
     ]
    }
   ],
   "source": [
    "spark.udf.register('getYear', lambda date: date.split('/')[0])\n",
    "spark.udf.register('concatenate', lambda c1, c2: str(c1)+'-'+str(c2))\n",
    "\n",
    "in_DF.filter('getYear(date) == \"2015\"').groupBy('city', 'country').agg({'t_max':'avg'}).withColumnRenamed('avg(t_max)', 't_max_avg')\\\n",
    "        .selectExpr('concatenate(city, country) AS city_country', 't_max_avg')\\\n",
    "        .write.csv(out_file_2a, header=False)"
   ]
  },
  {
   "cell_type": "markdown",
   "id": "0ac79ae1-9ab3-4a15-b8cd-e93772c2fc0d",
   "metadata": {},
   "source": [
    "#### b - hot cities in 2015\n",
    "\n",
    "Hot cities are the ones for which the average max_temperature is at least 5°C greater than the average temperature in the country."
   ]
  },
  {
   "cell_type": "code",
   "execution_count": 20,
   "id": "ecd4b3bb-3177-47c3-a1c2-1ff07f96d077",
   "metadata": {},
   "outputs": [],
   "source": [
    "city_avg_DF = in_DF.filter('getYear(date) == \"2015\"').groupBy('city', 'country')\\\n",
    "                .agg({'t_max':'avg'}).withColumnRenamed('avg(t_max)', 't_max_avg')\n",
    "\n",
    "city_avg_DF.createOrReplaceTempView('avg_cities')\n",
    "\n",
    "country_avg_DF = in_DF.filter('getYear(date) == \"2015\"').groupBy('country')\\\n",
    "                    .agg({'t_max':'avg'}).withColumnRenamed('avg(t_max)', 't_max_avg')\n",
    "\n",
    "country_avg_DF.createOrReplaceTempView('avg_countries')\n",
    "\n",
    "final_DF = spark.sql(\"\"\"\n",
    "                    SELECT avg_cities.city, avg_cities.t_max_avg, avg_countries.t_max_avg\n",
    "                    FROM avg_cities, avg_countries\n",
    "                    WHERE avg_cities.country == avg_countries.country AND avg_cities.t_max_avg >= (avg_countries.t_max_avg + 5)\n",
    "                    \"\"\")"
   ]
  },
  {
   "cell_type": "code",
   "execution_count": 15,
   "id": "a9d137f1-29ad-49c3-bcc6-6707b786c68a",
   "metadata": {},
   "outputs": [
    {
     "name": "stdout",
     "output_type": "stream",
     "text": [
      "+-----+-------+------------------+\n",
      "| city|country|         t_max_avg|\n",
      "+-----+-------+------------------+\n",
      "|Paris| France|21.166666666666668|\n",
      "| Lyon| France|28.166666666666668|\n",
      "| Rome|  Italy|              19.5|\n",
      "|Turin|  Italy|             24.75|\n",
      "+-----+-------+------------------+\n",
      "\n"
     ]
    }
   ],
   "source": [
    "city_avg_DF.show(20)"
   ]
  },
  {
   "cell_type": "code",
   "execution_count": 17,
   "id": "0549dd14-b3ef-46f5-9187-1418e880f3a9",
   "metadata": {},
   "outputs": [
    {
     "name": "stdout",
     "output_type": "stream",
     "text": [
      "+-------+------------------+\n",
      "|country|         t_max_avg|\n",
      "+-------+------------------+\n",
      "| France|24.666666666666668|\n",
      "|  Italy|            22.125|\n",
      "+-------+------------------+\n",
      "\n"
     ]
    }
   ],
   "source": [
    "country_avg_DF.show(20)"
   ]
  },
  {
   "cell_type": "code",
   "execution_count": 21,
   "id": "ed9dd337-27ae-4c1e-a1b2-ccea43e842a2",
   "metadata": {},
   "outputs": [
    {
     "name": "stdout",
     "output_type": "stream",
     "text": [
      "+----+---------+---------+\n",
      "|city|t_max_avg|t_max_avg|\n",
      "+----+---------+---------+\n",
      "+----+---------+---------+\n",
      "\n"
     ]
    }
   ],
   "source": [
    "final_DF.show()"
   ]
  },
  {
   "cell_type": "code",
   "execution_count": null,
   "id": "d61cafff-5a5b-47f2-82d6-754ff39a6de5",
   "metadata": {},
   "outputs": [],
   "source": [
    "# IT WORKS"
   ]
  },
  {
   "cell_type": "code",
   "execution_count": null,
   "id": "713c424b-0383-4a48-8e83-82ef33ff8516",
   "metadata": {},
   "outputs": [],
   "source": []
  },
  {
   "cell_type": "markdown",
   "id": "09882b66-2b4b-4c48-a38a-421a5d6d8137",
   "metadata": {},
   "source": [
    "# With RDDS\n",
    "\n",
    "It may be convenient, especially for the 1st exercise"
   ]
  },
  {
   "cell_type": "code",
   "execution_count": 45,
   "id": "cb93da91-71a1-48f6-a283-fb0ba53822ca",
   "metadata": {},
   "outputs": [],
   "source": [
    "# Re doing ex 01\n",
    "\n",
    "in_file_1 = '/data/students/bigdata_internet/exam_examples_data/example2_data/Temperatures.txt'\n",
    "out_file_1_rdd = '/user/s315054/exam_sim/example2/p01_rdd'\n",
    "\n",
    "in_RDD = sc.textFile(in_file_1).map(lambda line: (line.split(',')[1], [float(n) for n in line.split(',')[3:]]))\n",
    "\n",
    "out_RDD = in_RDD.reduceByKey(lambda c1, c2: [max(c1[0], c2[0]), min(c1[1], c2[1])])\\\n",
    "                .filter(lambda el: el[1][0] > 35 and el[1][1] < -20).keys()\n",
    "out_RDD.saveAsTextFile(out_file_1_rdd)"
   ]
  },
  {
   "cell_type": "code",
   "execution_count": 44,
   "id": "6d49eac7-0fea-41fe-bd8f-231eaa16ff7e",
   "metadata": {},
   "outputs": [
    {
     "data": {
      "text/plain": [
       "['Turin']"
      ]
     },
     "execution_count": 44,
     "metadata": {},
     "output_type": "execute_result"
    }
   ],
   "source": [
    "out_RDD.collect()"
   ]
  },
  {
   "cell_type": "code",
   "execution_count": 42,
   "id": "a24a094f-5a9c-4bd0-9142-ed0e6b41c500",
   "metadata": {},
   "outputs": [
    {
     "data": {
      "text/plain": [
       "[('Turin', [32.5, 26.0]),\n",
       " ('Turin', [30.5, 25.0]),\n",
       " ('Turin', [34.5, 24.0]),\n",
       " ('Turin', [35.5, 22.0]),\n",
       " ('Turin', [36.5, 21.0]),\n",
       " ('Turin', [32.5, 29.0]),\n",
       " ('Turin', [-0.5, -21.4]),\n",
       " ('Turin', [-3.5, -10.5]),\n",
       " ('Rome', [26.0, 19.5]),\n",
       " ('Rome', [25.0, 22.5]),\n",
       " ('Rome', [19.0, 19.5]),\n",
       " ('Rome', [28.0, 22.5]),\n",
       " ('Rome', [23.0, 20.0]),\n",
       " ('Rome', [15.5, 14.5]),\n",
       " ('Rome', [12.5, 10.0]),\n",
       " ('Rome', [7.0, 5.0]),\n",
       " ('Paris', [18.0, 10.0]),\n",
       " ('Paris', [22.0, 12.5]),\n",
       " ('Paris', [27.0, 14.5]),\n",
       " ('Paris', [31.0, 12.5]),\n",
       " ('Paris', [19.0, 10.5]),\n",
       " ('Paris', [10.0, 8.5]),\n",
       " ('Lyon', [31.0, 12.5]),\n",
       " ('Lyon', [29.0, 15.5]),\n",
       " ('Lyon', [27.0, 24.5]),\n",
       " ('Lyon', [34.0, 22.5]),\n",
       " ('Lyon', [28.0, 15.5]),\n",
       " ('Lyon', [20.0, 10.5])]"
      ]
     },
     "execution_count": 42,
     "metadata": {},
     "output_type": "execute_result"
    }
   ],
   "source": [
    "in_RDD.collect()"
   ]
  },
  {
   "cell_type": "code",
   "execution_count": null,
   "id": "e5d6f412-07cb-4e05-884f-63627b9f2ec7",
   "metadata": {},
   "outputs": [],
   "source": []
  },
  {
   "cell_type": "code",
   "execution_count": null,
   "id": "2eb0d88e-d8f1-449d-847e-4b2d6cbf0184",
   "metadata": {},
   "outputs": [],
   "source": []
  },
  {
   "cell_type": "code",
   "execution_count": null,
   "id": "b0588766-5f51-4259-b6de-7cde20ecc8ee",
   "metadata": {},
   "outputs": [],
   "source": []
  },
  {
   "cell_type": "code",
   "execution_count": null,
   "id": "4e497546-0986-4fa6-b77e-6f3dbf4aa0cf",
   "metadata": {},
   "outputs": [],
   "source": []
  },
  {
   "cell_type": "code",
   "execution_count": null,
   "id": "e099c8b9-5443-49f9-bbfc-ddafe72322cc",
   "metadata": {},
   "outputs": [],
   "source": []
  },
  {
   "cell_type": "code",
   "execution_count": null,
   "id": "00f8f87b-f656-41c2-bc5d-3b04298ac983",
   "metadata": {},
   "outputs": [],
   "source": []
  },
  {
   "cell_type": "code",
   "execution_count": null,
   "id": "b9ac7126-dea8-4d93-8281-50d5cce7ce36",
   "metadata": {},
   "outputs": [],
   "source": []
  },
  {
   "cell_type": "code",
   "execution_count": null,
   "id": "2698bb08-0f19-4cb4-9170-8fc0a271d21e",
   "metadata": {},
   "outputs": [],
   "source": []
  },
  {
   "cell_type": "code",
   "execution_count": null,
   "id": "34077670-7e48-4ce2-94db-177c83f3e728",
   "metadata": {},
   "outputs": [],
   "source": []
  },
  {
   "cell_type": "code",
   "execution_count": null,
   "id": "c6ca9870-1fc7-4980-8100-e402f25ceb56",
   "metadata": {},
   "outputs": [],
   "source": []
  }
 ],
 "metadata": {
  "kernelspec": {
   "display_name": "PySpark (Local)",
   "language": "python",
   "name": "pyspark_local"
  },
  "language_info": {
   "codemirror_mode": {
    "name": "ipython",
    "version": 3
   },
   "file_extension": ".py",
   "mimetype": "text/x-python",
   "name": "python",
   "nbconvert_exporter": "python",
   "pygments_lexer": "ipython3",
   "version": "3.7.12"
  }
 },
 "nbformat": 4,
 "nbformat_minor": 5
}
